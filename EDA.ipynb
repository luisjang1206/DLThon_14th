{
  "nbformat": 4,
  "nbformat_minor": 0,
  "metadata": {
    "colab": {
      "provenance": [],
      "collapsed_sections": [
        "a7uhNxnfjoiE"
      ],
      "gpuType": "V28"
    },
    "kernelspec": {
      "name": "python3",
      "display_name": "Python 3"
    },
    "language_info": {
      "name": "python"
    },
    "accelerator": "TPU"
  },
  "cells": [
    {
      "cell_type": "markdown",
      "source": [
        "### 한글폰트"
      ],
      "metadata": {
        "id": "a7uhNxnfjoiE"
      }
    },
    {
      "cell_type": "code",
      "source": [
        "!sudo apt-get update -qq # 폰트 설정을 위한 코드\n",
        "!sudo apt-get install fonts-nanum* -qq\n",
        "!sudo fc-cache -fv"
      ],
      "metadata": {
        "collapsed": true,
        "colab": {
          "base_uri": "https://localhost:8080/"
        },
        "id": "SWtk4MdSiHrD",
        "outputId": "c15f4469-15d0-4774-c9b7-359244c3add1"
      },
      "execution_count": 1,
      "outputs": [
        {
          "output_type": "stream",
          "name": "stdout",
          "text": [
            "W: Skipping acquire of configured file 'main/source/Sources' as repository 'https://r2u.stat.illinois.edu/ubuntu jammy InRelease' does not seem to provide it (sources.list entry misspelt?)\n",
            "/usr/share/fonts: caching, new cache contents: 0 fonts, 1 dirs\n",
            "/usr/share/fonts/truetype: caching, new cache contents: 0 fonts, 3 dirs\n",
            "/usr/share/fonts/truetype/humor-sans: caching, new cache contents: 1 fonts, 0 dirs\n",
            "/usr/share/fonts/truetype/liberation: caching, new cache contents: 16 fonts, 0 dirs\n",
            "/usr/share/fonts/truetype/nanum: caching, new cache contents: 39 fonts, 0 dirs\n",
            "/usr/local/share/fonts: caching, new cache contents: 0 fonts, 0 dirs\n",
            "/root/.local/share/fonts: skipping, no such directory\n",
            "/root/.fonts: skipping, no such directory\n",
            "/usr/share/fonts/truetype: skipping, looped directory detected\n",
            "/usr/share/fonts/truetype/humor-sans: skipping, looped directory detected\n",
            "/usr/share/fonts/truetype/liberation: skipping, looped directory detected\n",
            "/usr/share/fonts/truetype/nanum: skipping, looped directory detected\n",
            "/var/cache/fontconfig: cleaning cache directory\n",
            "/root/.cache/fontconfig: not cleaning non-existent cache directory\n",
            "/root/.fontconfig: not cleaning non-existent cache directory\n",
            "fc-cache: succeeded\n"
          ]
        }
      ]
    },
    {
      "cell_type": "code",
      "source": [
        "import matplotlib.pyplot as plt\n",
        "import matplotlib.font_manager as fm\n",
        "\n",
        "# 나눔 폰트 설치 경로 확인\n",
        "font_path = '/usr/share/fonts/truetype/nanum/NanumGothic.ttf'\n",
        "\n",
        "# 폰트 매니저에 폰트 추가\n",
        "font_prop = fm.FontProperties(fname=font_path)\n",
        "plt.rc('font', family=font_prop.get_name())"
      ],
      "metadata": {
        "id": "LVj8we0YjTzJ"
      },
      "execution_count": 2,
      "outputs": []
    },
    {
      "cell_type": "code",
      "source": [
        "import matplotlib.pyplot as plt\n",
        "\n",
        "plt.plot([1, 2, 3], [4, 5, 6])\n",
        "plt.title('한글 제목') # 한글 제목이 정상적으로 표시되는지 확인\n",
        "plt.show()"
      ],
      "metadata": {
        "colab": {
          "base_uri": "https://localhost:8080/",
          "height": 450
        },
        "id": "eRsv-ucajRVL",
        "outputId": "81eeb2b5-5dea-4bb3-8eaf-2f69401f9cad"
      },
      "execution_count": 3,
      "outputs": [
        {
          "output_type": "display_data",
          "data": {
            "text/plain": [
              "<Figure size 640x480 with 1 Axes>"
            ],
            "image/png": "[encoded data removed]"
          },
          "metadata": {}
        }
      ]
    },
    {
      "cell_type": "markdown",
      "source": [
        "## 데이터 다운로드"
      ],
      "metadata": {
        "id": "szn6rKHOgAZL"
      }
    },
    {
      "cell_type": "code",
      "execution_count": 4,
      "metadata": {
        "colab": {
          "base_uri": "https://localhost:8080/",
          "height": 95
        },
        "id": "3O3SSO3fbTCh",
        "outputId": "bf91a448-4285-4999-94a2-0592876405d4"
      },
      "outputs": [
        {
          "output_type": "display_data",
          "data": {
            "text/plain": [
              "<IPython.core.display.HTML object>"
            ],
            "text/html": [
              "\n",
              "     <input type=\"file\" id=\"files-febebc18-3588-4713-8992-316873908444\" name=\"files[]\" multiple disabled\n",
              "        style=\"border:none\" />\n",
              "     <output id=\"result-febebc18-3588-4713-8992-316873908444\">\n",
              "      Upload widget is only available when the cell has been executed in the\n",
              "      current browser session. Please rerun this cell to enable.\n",
              "      </output>\n",
              "      <script>// Copyright 2017 Google LLC\n",
              "//\n",
              "// Licensed under the Apache License, Version 2.0 (the \"License\");\n",
              "// you may not use this file except in compliance with the License.\n",
              "// You may obtain a copy of the License at\n",
              "//\n",
              "//      http://www.apache.org/licenses/LICENSE-2.0\n",
              "//\n",
              "// Unless required by applicable law or agreed to in writing, software\n",
              "// distributed under the License is distributed on an \"AS IS\" BASIS,\n",
              "// WITHOUT WARRANTIES OR CONDITIONS OF ANY KIND, either express or implied.\n",
              "// See the License for the specific language governing permissions and\n",
              "// limitations under the License.\n",
              "\n",
              "/**\n",
              " * @fileoverview Helpers for google.colab Python module.\n",
              " */\n",
              "(function(scope) {\n",
              "function span(text, styleAttributes = {}) {\n",
              "  const element = document.createElement('span');\n",
              "  element.textContent = text;\n",
              "  for (const key of Object.keys(styleAttributes)) {\n",
              "    element.style[key] = styleAttributes[key];\n",
              "  }\n",
              "  return element;\n",
              "}\n",
              "\n",
              "// Max number of bytes which will be uploaded at a time.\n",
              "const MAX_PAYLOAD_SIZE = 100 * 1024;\n",
              "\n",
              "function _uploadFiles(inputId, outputId) {\n",
              "  const steps = uploadFilesStep(inputId, outputId);\n",
              "  const outputElement = document.getElementById(outputId);\n",
              "  // Cache steps on the outputElement to make it available for the next call\n",
              "  // to uploadFilesContinue from Python.\n",
              "  outputElement.steps = steps;\n",
              "\n",
              "  return _uploadFilesContinue(outputId);\n",
              "}\n",
              "\n",
              "// This is roughly an async generator (not supported in the browser yet),\n",
              "// where there are multiple asynchronous steps and the Python side is going\n",
              "// to poll for completion of each step.\n",
              "// This uses a Promise to block the python side on completion of each step,\n",
              "// then passes the result of the previous step as the input to the next step.\n",
              "function _uploadFilesContinue(outputId) {\n",
              "  const outputElement = document.getElementById(outputId);\n",
              "  const steps = outputElement.steps;\n",
              "\n",
              "  const next = steps.next(outputElement.lastPromiseValue);\n",
              "  return Promise.resolve(next.value.promise).then((value) => {\n",
              "    // Cache the last promise value to make it available to the next\n",
              "    // step of the generator.\n",
              "    outputElement.lastPromiseValue = value;\n",
              "    return next.value.response;\n",
              "  });\n",
              "}\n",
              "\n",
              "/**\n",
              " * Generator function which is called between each async step of the upload\n",
              " * process.\n",
              " * @param {string} inputId Element ID of the input file picker element.\n",
              " * @param {string} outputId Element ID of the output display.\n",
              " * @return {!Iterable<!Object>} Iterable of next steps.\n",
              " */\n",
              "function* uploadFilesStep(inputId, outputId) {\n",
              "  const inputElement = document.getElementById(inputId);\n",
              "  inputElement.disabled = false;\n",
              "\n",
              "  const outputElement = document.getElementById(outputId);\n",
              "  outputElement.innerHTML = '';\n",
              "\n",
              "  const pickedPromise = new Promise((resolve) => {\n",
              "    inputElement.addEventListener('change', (e) => {\n",
              "      resolve(e.target.files);\n",
              "    });\n",
              "  });\n",
              "\n",
              "  const cancel = document.createElement('button');\n",
              "  inputElement.parentElement.appendChild(cancel);\n",
              "  cancel.textContent = 'Cancel upload';\n",
              "  const cancelPromise = new Promise((resolve) => {\n",
              "    cancel.onclick = () => {\n",
              "      resolve(null);\n",
              "    };\n",
              "  });\n",
              "\n",
              "  // Wait for the user to pick the files.\n",
              "  const files = yield {\n",
              "    promise: Promise.race([pickedPromise, cancelPromise]),\n",
              "    response: {\n",
              "      action: 'starting',\n",
              "    }\n",
              "  };\n",
              "\n",
              "  cancel.remove();\n",
              "\n",
              "  // Disable the input element since further picks are not allowed.\n",
              "  inputElement.disabled = true;\n",
              "\n",
              "  if (!files) {\n",
              "    return {\n",
              "      response: {\n",
              "        action: 'complete',\n",
              "      }\n",
              "    };\n",
              "  }\n",
              "\n",
              "  for (const file of files) {\n",
              "    const li = document.createElement('li');\n",
              "    li.append(span(file.name, {fontWeight: 'bold'}));\n",
              "    li.append(span(\n",
              "        `(${file.type || 'n/a'}) - ${file.size} bytes, ` +\n",
              "        `last modified: ${\n",
              "            file.lastModifiedDate ? file.lastModifiedDate.toLocaleDateString() :\n",
              "                                    'n/a'} - `));\n",
              "    const percent = span('0% done');\n",
              "    li.appendChild(percent);\n",
              "\n",
              "    outputElement.appendChild(li);\n",
              "\n",
              "    const fileDataPromise = new Promise((resolve) => {\n",
              "      const reader = new FileReader();\n",
              "      reader.onload = (e) => {\n",
              "        resolve(e.target.result);\n",
              "      };\n",
              "      reader.readAsArrayBuffer(file);\n",
              "    });\n",
              "    // Wait for the data to be ready.\n",
              "    let fileData = yield {\n",
              "      promise: fileDataPromise,\n",
              "      response: {\n",
              "        action: 'continue',\n",
              "      }\n",
              "    };\n",
              "\n",
              "    // Use a chunked sending to avoid message size limits. See b/62115660.\n",
              "    let position = 0;\n",
              "    do {\n",
              "      const length = Math.min(fileData.byteLength - position, MAX_PAYLOAD_SIZE);\n",
              "      const chunk = new Uint8Array(fileData, position, length);\n",
              "      position += length;\n",
              "\n",
              "      const base64 = btoa(String.fromCharCode.apply(null, chunk));\n",
              "      yield {\n",
              "        response: {\n",
              "          action: 'append',\n",
              "          file: file.name,\n",
              "          data: base64,\n",
              "        },\n",
              "      };\n",
              "\n",
              "      let percentDone = fileData.byteLength === 0 ?\n",
              "          100 :\n",
              "          Math.round((position / fileData.byteLength) * 100);\n",
              "      percent.textContent = `${percentDone}% done`;\n",
              "\n",
              "    } while (position < fileData.byteLength);\n",
              "  }\n",
              "\n",
              "  // All done.\n",
              "  yield {\n",
              "    response: {\n",
              "      action: 'complete',\n",
              "    }\n",
              "  };\n",
              "}\n",
              "\n",
              "scope.google = scope.google || {};\n",
              "scope.google.colab = scope.google.colab || {};\n",
              "scope.google.colab._files = {\n",
              "  _uploadFiles,\n",
              "  _uploadFilesContinue,\n",
              "};\n",
              "})(self);\n",
              "</script> "
            ]
          },
          "metadata": {}
        },
        {
          "output_type": "stream",
          "name": "stdout",
          "text": [
            "Saving kaggle.json to kaggle (1).json\n"
          ]
        },
        {
          "output_type": "execute_result",
          "data": {
            "text/plain": [
              "{'kaggle (1).json': b'{\"username\":\"gyunjaewon\",\"key\":\"b95ad6fda4b8fff20897c14bcddbf4b0\"}'}"
            ]
          },
          "metadata": {},
          "execution_count": 4
        }
      ],
      "source": [
        "from google.colab import files\n",
        "files.upload()"
      ]
    },
    {
      "cell_type": "code",
      "source": [
        "# Make a directory named kaggle and copy the kaggle. json file there\n",
        "!mkdir ~/.kaggle\n",
        "!cp kaggle.json ~/.kaggle/\n",
        "# change the permission of the file\n",
        "!chmod 600 ~/.kaggle/kaggle.json"
      ],
      "metadata": {
        "colab": {
          "base_uri": "https://localhost:8080/"
        },
        "id": "l_kb1MX8dFm0",
        "outputId": "a74d57de-2737-4a9f-a6b4-80c52fbea707"
      },
      "execution_count": 5,
      "outputs": [
        {
          "output_type": "stream",
          "name": "stdout",
          "text": [
            "mkdir: cannot create directory ‘/root/.kaggle’: File exists\n"
          ]
        }
      ]
    },
    {
      "cell_type": "code",
      "source": [
        "!kaggle competitions download -c aiffel-dl-thon-dktc-online-14"
      ],
      "metadata": {
        "colab": {
          "base_uri": "https://localhost:8080/"
        },
        "id": "cNH4197zdgae",
        "outputId": "c469a8c3-9830-4f8f-c301-70cf3b4197e8"
      },
      "execution_count": 6,
      "outputs": [
        {
          "output_type": "stream",
          "name": "stdout",
          "text": [
            "aiffel-dl-thon-dktc-online-14.zip: Skipping, found more recently modified local copy (use --force to force download)\n"
          ]
        }
      ]
    },
    {
      "cell_type": "code",
      "source": [
        "from zipfile import ZipFile\n",
        "file_name = \"/content/aiffel-dl-thon-dktc-online-14.zip\"\n",
        "\n",
        "with ZipFile(file_name, 'r') as zip:\n",
        "  zip.extractall()\n",
        "  print('done')"
      ],
      "metadata": {
        "colab": {
          "base_uri": "https://localhost:8080/"
        },
        "id": "YsqYkc-adh5S",
        "outputId": "afe8eeaa-7c18-4b1d-d252-47bdf5dba671"
      },
      "execution_count": 7,
      "outputs": [
        {
          "output_type": "stream",
          "name": "stdout",
          "text": [
            "done\n"
          ]
        }
      ]
    },
    {
      "cell_type": "markdown",
      "source": [
        "## 데이터 처리"
      ],
      "metadata": {
        "id": "LBJSX2CQgD0Y"
      }
    },
    {
      "cell_type": "code",
      "source": [
        "import pandas as pd\n",
        "\n",
        "# 데이터 읽기\n",
        "train_data = pd.read_csv('./train.csv', index_col='idx')\n",
        "test_data = pd.read_csv('./test.csv', index_col='idx')"
      ],
      "metadata": {
        "id": "C-NBjEsCdm_e"
      },
      "execution_count": 8,
      "outputs": []
    },
    {
      "cell_type": "code",
      "source": [
        "train_data.head()"
      ],
      "metadata": {
        "colab": {
          "base_uri": "https://localhost:8080/",
          "height": 237
        },
        "id": "7qBhWi7xd0gW",
        "outputId": "dda0a4ea-169d-4831-9021-88cc7a128cf4"
      },
      "execution_count": 9,
      "outputs": [
        {
          "output_type": "execute_result",
          "data": {
            "text/plain": [
              "         class                                       conversation\n",
              "idx                                                              \n",
              "0        협박 대화  지금 너 스스로를 죽여달라고 애원하는 것인가?\\n 아닙니다. 죄송합니다.\\n 죽을 ...\n",
              "1        협박 대화  길동경찰서입니다.\\n9시 40분 마트에 폭발물을 설치할거다.\\n네?\\n똑바로 들어 ...\n",
              "2    기타 괴롭힘 대화  너 되게 귀여운거 알지? 나보다 작은 남자는 첨봤어.\\n그만해. 니들 놀리는거 재미...\n",
              "3        갈취 대화  어이 거기\\n예??\\n너 말이야 너. 이리 오라고\\n무슨 일.\\n너 옷 좋아보인다?...\n",
              "4        갈취 대화  저기요 혹시 날이 너무 뜨겁잖아요? 저희 회사에서 이 선크림 파는데 한 번 손등에 ..."
            ],
            "text/html": [
              "\n",
              "  <div id=\"df-daf693af-c081-4a0b-aa7c-ad8d6caa518d\" class=\"colab-df-container\">\n",
              "    <div>\n",
              "<style scoped>\n",
              "    .dataframe tbody tr th:only-of-type {\n",
              "        vertical-align: middle;\n",
              "    }\n",
              "\n",
              "    .dataframe tbody tr th {\n",
              "        vertical-align: top;\n",
              "    }\n",
              "\n",
              "    .dataframe thead th {\n",
              "        text-align: right;\n",
              "    }\n",
              "</style>\n",
              "<table border=\"1\" class=\"dataframe\">\n",
              "  <thead>\n",
              "    <tr style=\"text-align: right;\">\n",
              "      <th></th>\n",
              "      <th>class</th>\n",
              "      <th>conversation</th>\n",
              "    </tr>\n",
              "    <tr>\n",
              "      <th>idx</th>\n",
              "      <th></th>\n",
              "      <th></th>\n",
              "    </tr>\n",
              "  </thead>\n",
              "  <tbody>\n",
              "    <tr>\n",
              "      <th>0</th>\n",
              "      <td>협박 대화</td>\n",
              "      <td>지금 너 스스로를 죽여달라고 애원하는 것인가?\\n 아닙니다. 죄송합니다.\\n 죽을 ...</td>\n",
              "    </tr>\n",
              "    <tr>\n",
              "      <th>1</th>\n",
              "      <td>협박 대화</td>\n",
              "      <td>길동경찰서입니다.\\n9시 40분 마트에 폭발물을 설치할거다.\\n네?\\n똑바로 들어 ...</td>\n",
              "    </tr>\n",
              "    <tr>\n",
              "      <th>2</th>\n",
              "      <td>기타 괴롭힘 대화</td>\n",
              "      <td>너 되게 귀여운거 알지? 나보다 작은 남자는 첨봤어.\\n그만해. 니들 놀리는거 재미...</td>\n",
              "    </tr>\n",
              "    <tr>\n",
              "      <th>3</th>\n",
              "      <td>갈취 대화</td>\n",
              "      <td>어이 거기\\n예??\\n너 말이야 너. 이리 오라고\\n무슨 일.\\n너 옷 좋아보인다?...</td>\n",
              "    </tr>\n",
              "    <tr>\n",
              "      <th>4</th>\n",
              "      <td>갈취 대화</td>\n",
              "      <td>저기요 혹시 날이 너무 뜨겁잖아요? 저희 회사에서 이 선크림 파는데 한 번 손등에 ...</td>\n",
              "    </tr>\n",
              "  </tbody>\n",
              "</table>\n",
              "</div>\n",
              "    <div class=\"colab-df-buttons\">\n",
              "\n",
              "  <div class=\"colab-df-container\">\n",
              "    <button class=\"colab-df-convert\" onclick=\"convertToInteractive('df-daf693af-c081-4a0b-aa7c-ad8d6caa518d')\"\n",
              "            title=\"Convert this dataframe to an interactive table.\"\n",
              "            style=\"display:none;\">\n",
              "\n",
              "  <svg xmlns=\"http://www.w3.org/2000/svg\" height=\"24px\" viewBox=\"0 -960 960 960\">\n",
              "    <path d=\"M120-120v-720h720v720H120Zm60-500h600v-160H180v160Zm220 220h160v-160H400v160Zm0 220h160v-160H400v160ZM180-400h160v-160H180v160Zm440 0h160v-160H620v160ZM180-180h160v-160H180v160Zm440 0h160v-160H620v160Z\"/>\n",
              "  </svg>\n",
              "    </button>\n",
              "\n",
              "  <style>\n",
              "    .colab-df-container {\n",
              "      display:flex;\n",
              "      gap: 12px;\n",
              "    }\n",
              "\n",
              "    .colab-df-convert {\n",
              "      background-color: #E8F0FE;\n",
              "      border: none;\n",
              "      border-radius: 50%;\n",
              "      cursor: pointer;\n",
              "      display: none;\n",
              "      fill: #1967D2;\n",
              "      height: 32px;\n",
              "      padding: 0 0 0 0;\n",
              "      width: 32px;\n",
              "    }\n",
              "\n",
              "    .colab-df-convert:hover {\n",
              "      background-color: #E2EBFA;\n",
              "      box-shadow: 0px 1px 2px rgba(60, 64, 67, 0.3), 0px 1px 3px 1px rgba(60, 64, 67, 0.15);\n",
              "      fill: #174EA6;\n",
              "    }\n",
              "\n",
              "    .colab-df-buttons div {\n",
              "      margin-bottom: 4px;\n",
              "    }\n",
              "\n",
              "    [theme=dark] .colab-df-convert {\n",
              "      background-color: #3B4455;\n",
              "      fill: #D2E3FC;\n",
              "    }\n",
              "\n",
              "    [theme=dark] .colab-df-convert:hover {\n",
              "      background-color: #434B5C;\n",
              "      box-shadow: 0px 1px 3px 1px rgba(0, 0, 0, 0.15);\n",
              "      filter: drop-shadow(0px 1px 2px rgba(0, 0, 0, 0.3));\n",
              "      fill: #FFFFFF;\n",
              "    }\n",
              "  </style>\n",
              "\n",
              "    <script>\n",
              "      const buttonEl =\n",
              "        document.querySelector('#df-daf693af-c081-4a0b-aa7c-ad8d6caa518d button.colab-df-convert');\n",
              "      buttonEl.style.display =\n",
              "        google.colab.kernel.accessAllowed ? 'block' : 'none';\n",
              "\n",
              "      async function convertToInteractive(key) {\n",
              "        const element = document.querySelector('#df-daf693af-c081-4a0b-aa7c-ad8d6caa518d');\n",
              "        const dataTable =\n",
              "          await google.colab.kernel.invokeFunction('convertToInteractive',\n",
              "                                                    [key], {});\n",
              "        if (!dataTable) return;\n",
              "\n",
              "        const docLinkHtml = 'Like what you see? Visit the ' +\n",
              "          '<a target=\"_blank\" href=https://colab.research.google.com/notebooks/data_table.ipynb>data table notebook</a>'\n",
              "          + ' to learn more about interactive tables.';\n",
              "        element.innerHTML = '';\n",
              "        dataTable['output_type'] = 'display_data';\n",
              "        await google.colab.output.renderOutput(dataTable, element);\n",
              "        const docLink = document.createElement('div');\n",
              "        docLink.innerHTML = docLinkHtml;\n",
              "        element.appendChild(docLink);\n",
              "      }\n",
              "    </script>\n",
              "  </div>\n",
              "\n",
              "\n",
              "    <div id=\"df-687c33f2-50e7-4309-a9a6-29eb89f486ea\">\n",
              "      <button class=\"colab-df-quickchart\" onclick=\"quickchart('df-687c33f2-50e7-4309-a9a6-29eb89f486ea')\"\n",
              "                title=\"Suggest charts\"\n",
              "                style=\"display:none;\">\n",
              "\n",
              "<svg xmlns=\"http://www.w3.org/2000/svg\" height=\"24px\"viewBox=\"0 0 24 24\"\n",
              "     width=\"24px\">\n",
              "    <g>\n",
              "        <path d=\"M19 3H5c-1.1 0-2 .9-2 2v14c0 1.1.9 2 2 2h14c1.1 0 2-.9 2-2V5c0-1.1-.9-2-2-2zM9 17H7v-7h2v7zm4 0h-2V7h2v10zm4 0h-2v-4h2v4z\"/>\n",
              "    </g>\n",
              "</svg>\n",
              "      </button>\n",
              "\n",
              "<style>\n",
              "  .colab-df-quickchart {\n",
              "      --bg-color: #E8F0FE;\n",
              "      --fill-color: #1967D2;\n",
              "      --hover-bg-color: #E2EBFA;\n",
              "      --hover-fill-color: #174EA6;\n",
              "      --disabled-fill-color: #AAA;\n",
              "      --disabled-bg-color: #DDD;\n",
              "  }\n",
              "\n",
              "  [theme=dark] .colab-df-quickchart {\n",
              "      --bg-color: #3B4455;\n",
              "      --fill-color: #D2E3FC;\n",
              "      --hover-bg-color: #434B5C;\n",
              "      --hover-fill-color: #FFFFFF;\n",
              "      --disabled-bg-color: #3B4455;\n",
              "      --disabled-fill-color: #666;\n",
              "  }\n",
              "\n",
              "  .colab-df-quickchart {\n",
              "    background-color: var(--bg-color);\n",
              "    border: none;\n",
              "    border-radius: 50%;\n",
              "    cursor: pointer;\n",
              "    display: none;\n",
              "    fill: var(--fill-color);\n",
              "    height: 32px;\n",
              "    padding: 0;\n",
              "    width: 32px;\n",
              "  }\n",
              "\n",
              "  .colab-df-quickchart:hover {\n",
              "    background-color: var(--hover-bg-color);\n",
              "    box-shadow: 0 1px 2px rgba(60, 64, 67, 0.3), 0 1px 3px 1px rgba(60, 64, 67, 0.15);\n",
              "    fill: var(--button-hover-fill-color);\n",
              "  }\n",
              "\n",
              "  .colab-df-quickchart-complete:disabled,\n",
              "  .colab-df-quickchart-complete:disabled:hover {\n",
              "    background-color: var(--disabled-bg-color);\n",
              "    fill: var(--disabled-fill-color);\n",
              "    box-shadow: none;\n",
              "  }\n",
              "\n",
              "  .colab-df-spinner {\n",
              "    border: 2px solid var(--fill-color);\n",
              "    border-color: transparent;\n",
              "    border-bottom-color: var(--fill-color);\n",
              "    animation:\n",
              "      spin 1s steps(1) infinite;\n",
              "  }\n",
              "\n",
              "  @keyframes spin {\n",
              "    0% {\n",
              "      border-color: transparent;\n",
              "      border-bottom-color: var(--fill-color);\n",
              "      border-left-color: var(--fill-color);\n",
              "    }\n",
              "    20% {\n",
              "      border-color: transparent;\n",
              "      border-left-color: var(--fill-color);\n",
              "      border-top-color: var(--fill-color);\n",
              "    }\n",
              "    30% {\n",
              "      border-color: transparent;\n",
              "      border-left-color: var(--fill-color);\n",
              "      border-top-color: var(--fill-color);\n",
              "      border-right-color: var(--fill-color);\n",
              "    }\n",
              "    40% {\n",
              "      border-color: transparent;\n",
              "      border-right-color: var(--fill-color);\n",
              "      border-top-color: var(--fill-color);\n",
              "    }\n",
              "    60% {\n",
              "      border-color: transparent;\n",
              "      border-right-color: var(--fill-color);\n",
              "    }\n",
              "    80% {\n",
              "      border-color: transparent;\n",
              "      border-right-color: var(--fill-color);\n",
              "      border-bottom-color: var(--fill-color);\n",
              "    }\n",
              "    90% {\n",
              "      border-color: transparent;\n",
              "      border-bottom-color: var(--fill-color);\n",
              "    }\n",
              "  }\n",
              "</style>\n",
              "\n",
              "      <script>\n",
              "        async function quickchart(key) {\n",
              "          const quickchartButtonEl =\n",
              "            document.querySelector('#' + key + ' button');\n",
              "          quickchartButtonEl.disabled = true;  // To prevent multiple clicks.\n",
              "          quickchartButtonEl.classList.add('colab-df-spinner');\n",
              "          try {\n",
              "            const charts = await google.colab.kernel.invokeFunction(\n",
              "                'suggestCharts', [key], {});\n",
              "          } catch (error) {\n",
              "            console.error('Error during call to suggestCharts:', error);\n",
              "          }\n",
              "          quickchartButtonEl.classList.remove('colab-df-spinner');\n",
              "          quickchartButtonEl.classList.add('colab-df-quickchart-complete');\n",
              "        }\n",
              "        (() => {\n",
              "          let quickchartButtonEl =\n",
              "            document.querySelector('#df-687c33f2-50e7-4309-a9a6-29eb89f486ea button');\n",
              "          quickchartButtonEl.style.display =\n",
              "            google.colab.kernel.accessAllowed ? 'block' : 'none';\n",
              "        })();\n",
              "      </script>\n",
              "    </div>\n",
              "\n",
              "    </div>\n",
              "  </div>\n"
            ],
            "application/vnd.google.colaboratory.intrinsic+json": {
              "type": "dataframe",
              "variable_name": "train_data",
              "summary": "{\n  \"name\": \"train_data\",\n  \"rows\": 3950,\n  \"fields\": [\n    {\n      \"column\": \"idx\",\n      \"properties\": {\n        \"dtype\": \"number\",\n        \"std\": 1140,\n        \"min\": 0,\n        \"max\": 3949,\n        \"num_unique_values\": 3950,\n        \"samples\": [\n          3136,\n          2118,\n          1811\n        ],\n        \"semantic_type\": \"\",\n        \"description\": \"\"\n      }\n    },\n    {\n      \"column\": \"class\",\n      \"properties\": {\n        \"dtype\": \"category\",\n        \"num_unique_values\": 4,\n        \"samples\": [\n          \"\\uae30\\ud0c0 \\uad34\\ub86d\\ud798 \\ub300\\ud654\",\n          \"\\uc9c1\\uc7a5 \\ub0b4 \\uad34\\ub86d\\ud798 \\ub300\\ud654\",\n          \"\\ud611\\ubc15 \\ub300\\ud654\"\n        ],\n        \"semantic_type\": \"\",\n        \"description\": \"\"\n      }\n    },\n    {\n      \"column\": \"conversation\",\n      \"properties\": {\n        \"dtype\": \"string\",\n        \"num_unique_values\": 3846,\n        \"samples\": [\n          \"\\uc57c \\uc774\\ub9ac\\uc640 \\ubd10\\n\\uc800\\uc694?\\n\\uadf8\\ub798 \\ub108\\n\\ub0b4\\uac00 \\ubc30\\uac00 \\uace0\\ud30c\\uc11c \\uadf8\\ub7ec\\ub294\\ub370 \\ub3c8 \\ub0b4\\ub194\\n\\uc800 \\uc6a9\\ub3c8\\uc774 \\ub5a8\\uc5b4\\uc838\\uc11c \\uc5c6\\uc5b4\\uc694\\n\\ub098 \\ubb34\\uc2dc \\ud558\\ub0d0?\\n\\uc544\\ub2c8\\uc5d0\\uc694 \\uc544\\uc800\\uc528 \\n\\uc88b\\uc740 \\ub9d0 \\ud560\\ub54c \\ub0b4\\ub194\\ub77c\\n\\uadf8\\ub7fc \\uc9d1\\uc5d0 \\uac00\\uc11c \\uac00\\uc838 \\uc62c\\uaed8\\uc694\\n\\ud55c\\ub300 \\ub9de\\uae30\\uc804\\uc5d0 \\ub0b4\\ub194\",\n          \"\\ud5d0 \\ub108 \\uc9c4\\uc9dc \\ub300\\ub2e8\\ud558\\ub2e4! \\ub0b4\\uac00 \\uc544\\ub294 \\uc0ac\\ub78c \\uc911\\uc5d0 \\ucd5c\\uace0\\uc57c! \\ub610 \\ub0a8\\uc790\\uce5c\\uad6c \\ubc14\\ub00c\\uc5c8\\ub2c8?\\n \\uc640 \\uc774\\uc81c \\ub180\\ub78d\\uc9c0\\ub3c4 \\uc54a\\ub2e4\\n \\ub108 \\uc18c\\ubb38 \\ucad9 \\ub1a8\\uc5b4 \\ub108\\ub791 \\uac19\\uc774 \\ub2e4\\ub2c8\\uae30 \\ucc3d\\ud53c\\ud574\\n \\ub108 \\uc9c0\\ub09c\\ubc88\\uc5d0 \\uadf8 \\uc624\\ube60 \\ub9cc\\ub098\\uba74\\uc11c \\ub2e4\\ub978 \\uc624\\ube60\\ub791 \\ub180\\uc558\\ub2e4\\uba70?\\n \\uc9c0\\uae08 \\ubb34\\uc2a8 \\uc18c\\ub9ac\\ub97c \\ud558\\ub294 \\uac70\\uc57c? \\ub09c \\uadf8\\ub7f0 \\uc801 \\uc5c6\\uc5b4.\\n \\uc5e5 \\uc560\\ub4e4 \\ub2e4 \\uc54c\\uace0 \\uc788\\ub358\\ub370? \\uadf8\\ub7fc \\uc560\\ub4e4\\uc774 \\uac70\\uc9d3\\ub9d0 \\ud55c\\ub2e4\\ub294 \\uac70\\uc57c? \\uc598 \\uc9c4\\uc9dc \\uc548 \\ub418\\uaca0\\ub124.\\n \\uc9c4\\uc9dc \\ub108\\uac00 \\uadf8\\ub798\\uc11c \\uce5c\\uad6c \\uc5c6\\ub294\\uac70\\uc57c. \\uc131\\uaca9 \\uc880 \\uace0\\uccd0\\ub77c. \\uc774\\uc81c \\ubc25\\uc740 \\ub530\\ub85c \\uba39\\uc790.\\n \\uadf8\\ub9ac\\uace0 \\uc218\\uc5c5 \\ub4e4\\uc744 \\ub54c\\ub3c4 \\ub0b4 \\uc606\\uc5d0 \\uc549\\uc9c0\\ub9c8. \\uc2eb\\uc73c\\ub2c8\\uae4c.\\n \\ub108\\ud76c\\uac00 \\uadf8\\ub7ec\\uace0\\ub3c4 \\ub0b4 \\uce5c\\uad6c\\uc57c? \\uc9c4\\uc9dc \\uc774\\ub798\\ub3c4 \\ub3fc?\\n \\uadf8\\ub798\\uc11c \\uc774\\uc81c \\ub124 \\uce5c\\uad6c \\uc548 \\ud558\\ub824\\uad6c \\uc548\\ub155!\",\n          \"\\ub098 \\uc774\\ubc88\\ub2ec \\uce74\\ub4dc\\uac12\\ub54c\\ub9e4 20\\ub9cc\\uc6d0\\ub9cc \\ube4c\\ub824\\uc918\\n \\ubb50? \\ub108 \\uc800\\ubc88\\uc5d0 30\\ub9cc\\uc6d0 \\ube4c\\ub824\\uac04\\uac83\\ub3c4 \\uc544\\uc9c1\\uc548\\uac1a\\uc558\\uc790\\ub098\\n \\ubb50\\ub798\\ub2c8. \\uae08\\ubc29\\uac1a\\uc544\\uc904\\uac8c\\n \\uc65c \\ub9e4\\ubc88 \\ub3c8\\uc744 \\ube4c\\ub824\\uac00\\uace0 \\uc548 \\uac1a\\ub294\\uac74\\ub370\\n \\uc57c. \\uac1a\\ub294\\ub2e4\\uace0\\n \\ub9e8\\ub0a0 \\uac1a\\ub294\\ub2e4\\uace0 \\ud558\\uace0 \\uc774\\ubc88\\uc774 \\uba87\\ubc88\\uc9f8\\uc57c?\\n \\uadf8\\ub7fc \\uc774\\uc804\\uc14b\\uc9d1\\uc5d0 \\uc5b9\\ud600 \\uc0b4\\uba74\\uc11c \\uadf8\\uc815\\ub3c4\\ub3c4 \\ubabb\\ube4c\\ub824\\uc8fc\\ub0d0?\\n \\uc57c. \\uadf8\\uac70\\ub791 \\uc774\\uac70\\ub791 \\ubb34\\uc2a8\\uc0c1\\uad00\\uc778\\ub370 \\ub098\\ub3c4 \\ubc18 \\ub0c8\\uc790\\ub098 \\uc804\\uc138\\uae08\\n \\uadf8\\ub798\\ub3c4 \\uc774\\uac8c \\uc57c \\ube4c\\ub824\\uc918 \\uac1a\\ub294\\ub2e4\\uace0 \\ub108 \\uc5b4\\uc81c \\uc6d4\\uae09\\ubc1b\\uc558\\uc790\\ub098 \\ube4c\\ub824\\uc918\\n \\uadf8\\uac70 \\uacf5\\uacfc\\uae08\\ub0b4\\uace0 \\uc774\\uac83\\uc800\\uac83\\ub0b4\\uba74 \\ub0a8\\ub294\\uac70 \\uc9c4\\uc9dc \\uc5c6\\uc5b4.\"\n        ],\n        \"semantic_type\": \"\",\n        \"description\": \"\"\n      }\n    }\n  ]\n}"
            }
          },
          "metadata": {},
          "execution_count": 9
        }
      ]
    },
    {
      "cell_type": "code",
      "source": [
        "test_data.head()"
      ],
      "metadata": {
        "colab": {
          "base_uri": "https://localhost:8080/",
          "height": 237
        },
        "id": "QYHeYLnxd3Ys",
        "outputId": "27453dfe-a29c-46d3-8335-e5cd7bfa86d7"
      },
      "execution_count": 10,
      "outputs": [
        {
          "output_type": "execute_result",
          "data": {
            "text/plain": [
              "                                                    text\n",
              "idx                                                     \n",
              "t_000  아가씨 담배한갑주소 네 4500원입니다 어 네 지갑어디갔지 에이 버스에서 잃어버렸나...\n",
              "t_001  우리팀에서 다른팀으로 갈 사람 없나? 그럼 영지씨가 가는건 어때?  네? 제가요? ...\n",
              "t_002  너 오늘 그게 뭐야 네 제가 뭘 잘못했나요.? 제대로 좀 하지 네 똑바로 좀 하지 ...\n",
              "t_003  이거 들어바 와 이 노래 진짜 좋다 그치 요즘 이 것만 들어 진짜 너무 좋다 내가 ...\n",
              "t_004  아무튼 앞으로 니가 내 와이파이야. .응 와이파이 온. 켰어. 반말? 주인님이라고도..."
            ],
            "text/html": [
              "\n",
              "  <div id=\"df-62282ff7-c288-4481-9833-0dc0ff252fba\" class=\"colab-df-container\">\n",
              "    <div>\n",
              "<style scoped>\n",
              "    .dataframe tbody tr th:only-of-type {\n",
              "        vertical-align: middle;\n",
              "    }\n",
              "\n",
              "    .dataframe tbody tr th {\n",
              "        vertical-align: top;\n",
              "    }\n",
              "\n",
              "    .dataframe thead th {\n",
              "        text-align: right;\n",
              "    }\n",
              "</style>\n",
              "<table border=\"1\" class=\"dataframe\">\n",
              "  <thead>\n",
              "    <tr style=\"text-align: right;\">\n",
              "      <th></th>\n",
              "      <th>text</th>\n",
              "    </tr>\n",
              "    <tr>\n",
              "      <th>idx</th>\n",
              "      <th></th>\n",
              "    </tr>\n",
              "  </thead>\n",
              "  <tbody>\n",
              "    <tr>\n",
              "      <th>t_000</th>\n",
              "      <td>아가씨 담배한갑주소 네 4500원입니다 어 네 지갑어디갔지 에이 버스에서 잃어버렸나...</td>\n",
              "    </tr>\n",
              "    <tr>\n",
              "      <th>t_001</th>\n",
              "      <td>우리팀에서 다른팀으로 갈 사람 없나? 그럼 영지씨가 가는건 어때?  네? 제가요? ...</td>\n",
              "    </tr>\n",
              "    <tr>\n",
              "      <th>t_002</th>\n",
              "      <td>너 오늘 그게 뭐야 네 제가 뭘 잘못했나요.? 제대로 좀 하지 네 똑바로 좀 하지 ...</td>\n",
              "    </tr>\n",
              "    <tr>\n",
              "      <th>t_003</th>\n",
              "      <td>이거 들어바 와 이 노래 진짜 좋다 그치 요즘 이 것만 들어 진짜 너무 좋다 내가 ...</td>\n",
              "    </tr>\n",
              "    <tr>\n",
              "      <th>t_004</th>\n",
              "      <td>아무튼 앞으로 니가 내 와이파이야. .응 와이파이 온. 켰어. 반말? 주인님이라고도...</td>\n",
              "    </tr>\n",
              "  </tbody>\n",
              "</table>\n",
              "</div>\n",
              "    <div class=\"colab-df-buttons\">\n",
              "\n",
              "  <div class=\"colab-df-container\">\n",
              "    <button class=\"colab-df-convert\" onclick=\"convertToInteractive('df-62282ff7-c288-4481-9833-0dc0ff252fba')\"\n",
              "            title=\"Convert this dataframe to an interactive table.\"\n",
              "            style=\"display:none;\">\n",
              "\n",
              "  <svg xmlns=\"http://www.w3.org/2000/svg\" height=\"24px\" viewBox=\"0 -960 960 960\">\n",
              "    <path d=\"M120-120v-720h720v720H120Zm60-500h600v-160H180v160Zm220 220h160v-160H400v160Zm0 220h160v-160H400v160ZM180-400h160v-160H180v160Zm440 0h160v-160H620v160ZM180-180h160v-160H180v160Zm440 0h160v-160H620v160Z\"/>\n",
              "  </svg>\n",
              "    </button>\n",
              "\n",
              "  <style>\n",
              "    .colab-df-container {\n",
              "      display:flex;\n",
              "      gap: 12px;\n",
              "    }\n",
              "\n",
              "    .colab-df-convert {\n",
              "      background-color: #E8F0FE;\n",
              "      border: none;\n",
              "      border-radius: 50%;\n",
              "      cursor: pointer;\n",
              "      display: none;\n",
              "      fill: #1967D2;\n",
              "      height: 32px;\n",
              "      padding: 0 0 0 0;\n",
              "      width: 32px;\n",
              "    }\n",
              "\n",
              "    .colab-df-convert:hover {\n",
              "      background-color: #E2EBFA;\n",
              "      box-shadow: 0px 1px 2px rgba(60, 64, 67, 0.3), 0px 1px 3px 1px rgba(60, 64, 67, 0.15);\n",
              "      fill: #174EA6;\n",
              "    }\n",
              "\n",
              "    .colab-df-buttons div {\n",
              "      margin-bottom: 4px;\n",
              "    }\n",
              "\n",
              "    [theme=dark] .colab-df-convert {\n",
              "      background-color: #3B4455;\n",
              "      fill: #D2E3FC;\n",
              "    }\n",
              "\n",
              "    [theme=dark] .colab-df-convert:hover {\n",
              "      background-color: #434B5C;\n",
              "      box-shadow: 0px 1px 3px 1px rgba(0, 0, 0, 0.15);\n",
              "      filter: drop-shadow(0px 1px 2px rgba(0, 0, 0, 0.3));\n",
              "      fill: #FFFFFF;\n",
              "    }\n",
              "  </style>\n",
              "\n",
              "    <script>\n",
              "      const buttonEl =\n",
              "        document.querySelector('#df-62282ff7-c288-4481-9833-0dc0ff252fba button.colab-df-convert');\n",
              "      buttonEl.style.display =\n",
              "        google.colab.kernel.accessAllowed ? 'block' : 'none';\n",
              "\n",
              "      async function convertToInteractive(key) {\n",
              "        const element = document.querySelector('#df-62282ff7-c288-4481-9833-0dc0ff252fba');\n",
              "        const dataTable =\n",
              "          await google.colab.kernel.invokeFunction('convertToInteractive',\n",
              "                                                    [key], {});\n",
              "        if (!dataTable) return;\n",
              "\n",
              "        const docLinkHtml = 'Like what you see? Visit the ' +\n",
              "          '<a target=\"_blank\" href=https://colab.research.google.com/notebooks/data_table.ipynb>data table notebook</a>'\n",
              "          + ' to learn more about interactive tables.';\n",
              "        element.innerHTML = '';\n",
              "        dataTable['output_type'] = 'display_data';\n",
              "        await google.colab.output.renderOutput(dataTable, element);\n",
              "        const docLink = document.createElement('div');\n",
              "        docLink.innerHTML = docLinkHtml;\n",
              "        element.appendChild(docLink);\n",
              "      }\n",
              "    </script>\n",
              "  </div>\n",
              "\n",
              "\n",
              "    <div id=\"df-6f989420-420f-48f9-9ca0-08cfc81a047f\">\n",
              "      <button class=\"colab-df-quickchart\" onclick=\"quickchart('df-6f989420-420f-48f9-9ca0-08cfc81a047f')\"\n",
              "                title=\"Suggest charts\"\n",
              "                style=\"display:none;\">\n",
              "\n",
              "<svg xmlns=\"http://www.w3.org/2000/svg\" height=\"24px\"viewBox=\"0 0 24 24\"\n",
              "     width=\"24px\">\n",
              "    <g>\n",
              "        <path d=\"M19 3H5c-1.1 0-2 .9-2 2v14c0 1.1.9 2 2 2h14c1.1 0 2-.9 2-2V5c0-1.1-.9-2-2-2zM9 17H7v-7h2v7zm4 0h-2V7h2v10zm4 0h-2v-4h2v4z\"/>\n",
              "    </g>\n",
              "</svg>\n",
              "      </button>\n",
              "\n",
              "<style>\n",
              "  .colab-df-quickchart {\n",
              "      --bg-color: #E8F0FE;\n",
              "      --fill-color: #1967D2;\n",
              "      --hover-bg-color: #E2EBFA;\n",
              "      --hover-fill-color: #174EA6;\n",
              "      --disabled-fill-color: #AAA;\n",
              "      --disabled-bg-color: #DDD;\n",
              "  }\n",
              "\n",
              "  [theme=dark] .colab-df-quickchart {\n",
              "      --bg-color: #3B4455;\n",
              "      --fill-color: #D2E3FC;\n",
              "      --hover-bg-color: #434B5C;\n",
              "      --hover-fill-color: #FFFFFF;\n",
              "      --disabled-bg-color: #3B4455;\n",
              "      --disabled-fill-color: #666;\n",
              "  }\n",
              "\n",
              "  .colab-df-quickchart {\n",
              "    background-color: var(--bg-color);\n",
              "    border: none;\n",
              "    border-radius: 50%;\n",
              "    cursor: pointer;\n",
              "    display: none;\n",
              "    fill: var(--fill-color);\n",
              "    height: 32px;\n",
              "    padding: 0;\n",
              "    width: 32px;\n",
              "  }\n",
              "\n",
              "  .colab-df-quickchart:hover {\n",
              "    background-color: var(--hover-bg-color);\n",
              "    box-shadow: 0 1px 2px rgba(60, 64, 67, 0.3), 0 1px 3px 1px rgba(60, 64, 67, 0.15);\n",
              "    fill: var(--button-hover-fill-color);\n",
              "  }\n",
              "\n",
              "  .colab-df-quickchart-complete:disabled,\n",
              "  .colab-df-quickchart-complete:disabled:hover {\n",
              "    background-color: var(--disabled-bg-color);\n",
              "    fill: var(--disabled-fill-color);\n",
              "    box-shadow: none;\n",
              "  }\n",
              "\n",
              "  .colab-df-spinner {\n",
              "    border: 2px solid var(--fill-color);\n",
              "    border-color: transparent;\n",
              "    border-bottom-color: var(--fill-color);\n",
              "    animation:\n",
              "      spin 1s steps(1) infinite;\n",
              "  }\n",
              "\n",
              "  @keyframes spin {\n",
              "    0% {\n",
              "      border-color: transparent;\n",
              "      border-bottom-color: var(--fill-color);\n",
              "      border-left-color: var(--fill-color);\n",
              "    }\n",
              "    20% {\n",
              "      border-color: transparent;\n",
              "      border-left-color: var(--fill-color);\n",
              "      border-top-color: var(--fill-color);\n",
              "    }\n",
              "    30% {\n",
              "      border-color: transparent;\n",
              "      border-left-color: var(--fill-color);\n",
              "      border-top-color: var(--fill-color);\n",
              "      border-right-color: var(--fill-color);\n",
              "    }\n",
              "    40% {\n",
              "      border-color: transparent;\n",
              "      border-right-color: var(--fill-color);\n",
              "      border-top-color: var(--fill-color);\n",
              "    }\n",
              "    60% {\n",
              "      border-color: transparent;\n",
              "      border-right-color: var(--fill-color);\n",
              "    }\n",
              "    80% {\n",
              "      border-color: transparent;\n",
              "      border-right-color: var(--fill-color);\n",
              "      border-bottom-color: var(--fill-color);\n",
              "    }\n",
              "    90% {\n",
              "      border-color: transparent;\n",
              "      border-bottom-color: var(--fill-color);\n",
              "    }\n",
              "  }\n",
              "</style>\n",
              "\n",
              "      <script>\n",
              "        async function quickchart(key) {\n",
              "          const quickchartButtonEl =\n",
              "            document.querySelector('#' + key + ' button');\n",
              "          quickchartButtonEl.disabled = true;  // To prevent multiple clicks.\n",
              "          quickchartButtonEl.classList.add('colab-df-spinner');\n",
              "          try {\n",
              "            const charts = await google.colab.kernel.invokeFunction(\n",
              "                'suggestCharts', [key], {});\n",
              "          } catch (error) {\n",
              "            console.error('Error during call to suggestCharts:', error);\n",
              "          }\n",
              "          quickchartButtonEl.classList.remove('colab-df-spinner');\n",
              "          quickchartButtonEl.classList.add('colab-df-quickchart-complete');\n",
              "        }\n",
              "        (() => {\n",
              "          let quickchartButtonEl =\n",
              "            document.querySelector('#df-6f989420-420f-48f9-9ca0-08cfc81a047f button');\n",
              "          quickchartButtonEl.style.display =\n",
              "            google.colab.kernel.accessAllowed ? 'block' : 'none';\n",
              "        })();\n",
              "      </script>\n",
              "    </div>\n",
              "\n",
              "    </div>\n",
              "  </div>\n"
            ],
            "application/vnd.google.colaboratory.intrinsic+json": {
              "type": "dataframe",
              "variable_name": "test_data",
              "summary": "{\n  \"name\": \"test_data\",\n  \"rows\": 500,\n  \"fields\": [\n    {\n      \"column\": \"idx\",\n      \"properties\": {\n        \"dtype\": \"string\",\n        \"num_unique_values\": 500,\n        \"samples\": [\n          \"t_361\",\n          \"t_073\",\n          \"t_374\"\n        ],\n        \"semantic_type\": \"\",\n        \"description\": \"\"\n      }\n    },\n    {\n      \"column\": \"text\",\n      \"properties\": {\n        \"dtype\": \"string\",\n        \"num_unique_values\": 499,\n        \"samples\": [\n          \"\\ub0b4\\uc77c \\ubaa8\\ub808\\uae4c\\uc9c0 \\ucc9c\\ub9cc\\uc6d0 \\ub354 \\uc900\\ube44\\ud574\\uc8fc\\uc138\\uc694 \\ub124? \\uc774\\ubc88\\ub2ec\\uc740 \\uc774\\ubbf8 \\uc6d0\\ud558\\uc2dc\\ub294 \\uae08\\uc561 \\ub2e4 \\ub9de\\ucdb0\\ub4dc\\ub838\\uc796\\uc544\\uc694 \\uc6b0\\ub9ac \\uc0ac\\uc774 \\uae08\\uc561\\uc5d0 \\uc0c1\\ud55c\\uac00\\uac00 \\uc5b4\\ub528\\uc2b5\\ub2c8\\uae4c \\uadf8\\ub54c\\uadf8\\ub54c \\uc0c1\\ud669\\uc5d0 \\ub2e4\\ub978\\uac70 \\uc544\\uc2dc\\uc796\\uc544\\uc694 \\uc800 \\uc815\\ub9d0 \\uc774\\ubc88\\ub2ec\\uc5d0 \\ub4dc\\ub9b0\\uac8c \\ub2e4\\uc5d0\\uc694. \\ud604\\uae08 \\ub354 \\ub9cc\\ub4e4\\ub798\\ub3c4 \\ub9cc\\ub4e4 \\uc218\\uac00 \\uc5c6\\uc2b5\\ub2c8\\ub2e4 \\uc815\\ub9d0\\uc774\\uc5d0\\uc694 \\uc774\\uc81c \\uaca8\\uc6b0 \\uc790\\ub9ac \\uc7a1\\uc740 \\ub538\\uc790\\uc2dd \\uc55e\\uae38 \\ub9dd\\uac00\\ub728\\ub9ac\\uace0 \\uc2f6\\ub098\\ubcf4\\ub124? \\ud55c\\ubc88\\ub9cc \\uc0b4\\ub824\\uc8fc\\uc2ed\\uc1fc \\uc81c \\ub538\\ub9cc\\uc740 \\uac74\\ub4e4\\uc9c0 \\ub9d0\\uc544\\uc8fc\\uc2ed\\uc1fc. \\ub9e4\\ubc88 \\uc774\\ub807\\uac8c \\ubd80\\ud0c1\\ub9cc \\ud558\\uba74 \\ub0b4\\uac00 \\uc5b4\\ub5bb\\uac8c \\ub4e4\\uc5b4\\uc8fc\\ub098 \\ub2e4\\uc74c\\ub2ec\\uc5d0 \\uc5b4\\ub5bb\\uac8c\\ub4e0 \\ucc44\\uc6cc\\ubcfc\\ud14c\\ub2c8 \\uc774\\ubc88\\ub9cc \\uc0b4\\ub824\\uc8fc\\uc2ed\\uc1fc \\uc81c\\ubc1c \\ub3c8\\uc774 \\uc5c6\\uc73c\\uba74 \\ubab8\\uc73c\\ub85c\\ub77c\\ub3c4 \\ub5bc\\uc6cc \\uadf8\\ub7fc \\ubab8\\ub6b1\\uc774 \\ud558\\ub098\\ub85c \\ub3c8 \\ubc8c\\uc5b4 \\uba39\\uace0 \\uc0b4\\uace0 \\uc788\\uc2b5\\ub2c8\\ub2e4. \\uc81c\\ubc1c \\uc774\\ubc88\\ub9cc \\uc880 \\ubd10\\uc8fc\\uc2ed\\uc2dc\\uc624\",\n          \"\\uc218\\ubbfc \\uc528 \\uc544\\uce68\\uc5d0 \\uc77c\\ucc0d \\uc880 \\uc624\\uc138\\uc694  \\uc800 \\uc9c0\\uac01 \\uc548\\ud588\\uc2b5\\ub2c8\\ub2e4  \\uc544\\ub2c8 \\uc2e0\\uc785\\uc774\\uba74 1\\uc2dc\\uac04 \\uc77c\\ucc0d \\uc640\\uc57c\\uc9c0  \\ub124?  \\uc694\\uc998 \\uc560\\ub4e4\\uc740 \\uae30\\ubcf8\\uc774 \\uc5c6\\uc5b4 \\uc77c\\ucc0d \\uc640\\uc11c \\ucee4\\ud53c\\ub3c4 \\ud0c0\\uace0 \\uc815\\ub9ac\\ub3c4 \\ud574\\ub193\\uace0 \\uadf8\\ub798\\uc57c\\uc9c0  \\uadf8\\uac74 \\ubd80\\ub2f9\\ud558\\ub2e4\\uace0 \\uc0dd\\uac01\\ud569\\ub2c8\\ub2e4  \\uc774\\uac83 \\ubd10 \\ubc14\\ub85c \\ub9d0\\ub300\\uafb8\\uc57c  \\ub9d0\\ub300\\uafb8\\ub77c\\ub1e8?  \\uc5ed\\uc2dc \\uc2f8\\uac00\\uc9c0\\uac00 \\uc5c6\\uc5b4 \\uc218\\ubbfc \\uc528\\ub294 \\ud68c\\uc0ac \\uc9e7\\uac8c \\ub2e4\\ub2c8\\uace0 \\uc2f6\\uc740\\uac00 \\ubcf4\\ub124  \\uc9c0\\uae08 \\ubb34\\uc2a8 \\ub9d0\\uc500\\uc744 \\ud558\\uc2dc\\ub294\\uc9c0 \\ubaa8\\ub974\\uaca0\\ub124\\uc694\",\n          \"\\uc5ec\\ub7ec\\ubd84 \\uc8fc\\ub2d8\\uc740 \\ucc38 \\uc790\\ube44\\ub85c\\uc6b0\\uc2e0 \\uac83 \\uac19\\uc544\\uc694 \\ub0a8\\ub4e4\\uc774 \\uc608\\uc218\\ub77c\\uba74 \\ub2e4 \\uc8fd\\uc5ec\\ubc84\\ub838\\uc744 \\ud150\\ub370 \\ucc38 \\uc6c3\\uae30\\uace0 \\uc790\\ube60\\uc84c\\ub124 \\uc2e0\\ub3c4 \\ub2d8\\ub4e4 \\uc800 \\uc2e0\\ub3c4\\ub97c \\uc7a1\\uc73c\\uc138\\uc694 \\uc544\\ub2c8 \\uc65c \\uadf8\\ub7ec\\uc138\\uc694 \\uc774\\uac70 \\ub194 \\uc790 \\ub0b4\\uac00 \\uce7c\\uc744 \\uc904\\ud14c\\ub2c8 \\ud68c\\uacc4\\ud558\\uace0 \\uc790\\uacb0\\ud574 \\ub10c \\uc77c\\ucc0d \\ucc9c\\uad6d\\uc73c\\ub85c \\ubcf4\\ub0b4\\uc8fc\\ub294 \\uac70\\uc57c \\uc544\\ub2c8\\uba74 \\ub0b4\\uac00 \\uc8fd\\uc5ec\\uc11c \\uc9c0\\uc625\\uc73c\\ub85c \\ubcf4\\ub0bc\\uc218\\ub3c4 \\uc788\\uc73c\\ub2c8 \\uc544\\ub2c8 \\uc65c \\uadf8\\ub7ec\\uc138\\uc694? \\uc0ac\\uc774\\ube44\\uc5d0\\uc694? \\uc774\\uac70 \\ub194\\uc694 \\uc774 \\ubc84\\ub7ec\\uc9c0\\uac19\\uc740 \\uc0ac\\ud0c4\\uc774 \\ub9de\\uc744\\ub77c\\uace0 \\uc0b4\\ub824\\uc8fc\\uc138\\uc694 \\ub3c4\\uc640\\uc8fc\\uc138\\uc694\"\n        ],\n        \"semantic_type\": \"\",\n        \"description\": \"\"\n      }\n    }\n  ]\n}"
            }
          },
          "metadata": {},
          "execution_count": 10
        }
      ]
    },
    {
      "cell_type": "code",
      "source": [
        "# 데이터 프레임 정보 확인 (열, 결측치 등)\n",
        "print(train_data.info())"
      ],
      "metadata": {
        "colab": {
          "base_uri": "https://localhost:8080/"
        },
        "id": "DS1Sy9XKrpgz",
        "outputId": "c683093f-2bf6-4bf9-f10c-ea48c93fc51e"
      },
      "execution_count": 16,
      "outputs": [
        {
          "output_type": "stream",
          "name": "stdout",
          "text": [
            "<class 'pandas.core.frame.DataFrame'>\n",
            "Index: 3950 entries, 0 to 3949\n",
            "Data columns (total 2 columns):\n",
            " #   Column        Non-Null Count  Dtype \n",
            "---  ------        --------------  ----- \n",
            " 0   class         3950 non-null   object\n",
            " 1   conversation  3950 non-null   object\n",
            "dtypes: object(2)\n",
            "memory usage: 92.6+ KB\n",
            "None\n"
          ]
        }
      ]
    },
    {
      "cell_type": "code",
      "source": [
        "class_counts = train_data.groupby('class').size()\n",
        "print(class_counts)"
      ],
      "metadata": {
        "colab": {
          "base_uri": "https://localhost:8080/"
        },
        "id": "8zJk6vEcd4qx",
        "outputId": "2ccfbf82-ee77-493a-95c4-cf09c64bcf28"
      },
      "execution_count": 11,
      "outputs": [
        {
          "output_type": "stream",
          "name": "stdout",
          "text": [
            "class\n",
            "갈취 대화           981\n",
            "기타 괴롭힘 대화      1094\n",
            "직장 내 괴롭힘 대화     979\n",
            "협박 대화           896\n",
            "dtype: int64\n"
          ]
        }
      ]
    },
    {
      "cell_type": "code",
      "source": [
        "# 'class' 열의 고유값별 개수 세기\n",
        "class_counts = train_data['class'].value_counts()\n",
        "\n",
        "# 결과 출력\n",
        "print(\"클래스별 데이터 개수:\\n\", class_counts)\n",
        "\n",
        "# 비율 계산 및 출력\n",
        "class_proportions = train_data['class'].value_counts(normalize=True) * 100\n",
        "print(\"\\n클래스별 데이터 비율 (%):\\n\", class_proportions)"
      ],
      "metadata": {
        "colab": {
          "base_uri": "https://localhost:8080/"
        },
        "id": "pchVoGkNr47g",
        "outputId": "4087eeb0-a823-4b16-c901-0372a161a6d3"
      },
      "execution_count": 19,
      "outputs": [
        {
          "output_type": "stream",
          "name": "stdout",
          "text": [
            "클래스별 데이터 개수:\n",
            " class\n",
            "기타 괴롭힘 대화      1094\n",
            "갈취 대화           981\n",
            "직장 내 괴롭힘 대화     979\n",
            "협박 대화           896\n",
            "Name: count, dtype: int64\n",
            "\n",
            "클래스별 데이터 비율 (%):\n",
            " class\n",
            "기타 괴롭힘 대화      27.696203\n",
            "갈취 대화          24.835443\n",
            "직장 내 괴롭힘 대화    24.784810\n",
            "협박 대화          22.683544\n",
            "Name: proportion, dtype: float64\n"
          ]
        }
      ]
    },
    {
      "cell_type": "code",
      "source": [
        "x_train = train_data['conversation']\n",
        "y_train = train_data['class']"
      ],
      "metadata": {
        "id": "PRTVdtobgb3m"
      },
      "execution_count": 12,
      "outputs": []
    },
    {
      "cell_type": "markdown",
      "source": [
        "## 데이터 길이, 클래스 분포 확인"
      ],
      "metadata": {
        "id": "r6gIBvEihaf9"
      }
    },
    {
      "cell_type": "code",
      "source": [
        "import matplotlib.pyplot as plt\n",
        "import matplotlib.font_manager as fm\n",
        "\n",
        "# 나눔 폰트 설치 경로 확인\n",
        "font_path = '/usr/share/fonts/truetype/nanum/NanumGothic.ttf'\n",
        "\n",
        "# 폰트 매니저에 폰트 추가\n",
        "font_prop = fm.FontProperties(fname=font_path)\n",
        "plt.rc('font', family=font_prop.get_name())\n",
        "import numpy as np\n",
        "import pandas as pd\n",
        "import seaborn as sns\n",
        "\n",
        "print('데이터 정보')\n",
        "print('-'*50)\n",
        "print('x_train :',x_train.shape)\n",
        "print('y_train :',y_train.shape)\n",
        "print('label 종류:', set(y_train))\n",
        "print('-'*50)\n",
        "num_classes = 4\n",
        "print('클래스의 수 : {}'.format(num_classes))\n",
        "print('-'*50)\n",
        "print('훈련용 뉴스의 최대 길이 :{}'.format(max(len(l) for l in x_train)))\n",
        "print('훈련용 뉴스의 평균 길이 :{}'.format(sum(map(len, x_train))/len(x_train)))\n",
        "\n",
        "# Create a figure with two subplots\n",
        "fig, axes = plt.subplots(nrows=1, ncols=2, figsize=(15, 5))\n",
        "\n",
        "# Plot the histogram of sample lengths\n",
        "axes[0].hist([len(s) for s in x_train], bins=50)\n",
        "axes[0].set_xlabel('length of samples')\n",
        "axes[0].set_ylabel('number of samples')\n",
        "axes[0].set_title('Sample Length Distribution')\n",
        "\n",
        "# Plot the count of each class\n",
        "sns.countplot(x=y_train, ax=axes[1])\n",
        "axes[1].set_title('Class Distribution')\n",
        "\n",
        "# Adjust layout\n",
        "plt.tight_layout()\n",
        "\n",
        "# Show the plots\n",
        "plt.show()"
      ],
      "metadata": {
        "colab": {
          "base_uri": "https://localhost:8080/",
          "height": 564
        },
        "id": "y6bvZmUxha11",
        "outputId": "86290f84-a8fc-427a-947e-e7f045904c85"
      },
      "execution_count": 13,
      "outputs": [
        {
          "output_type": "stream",
          "name": "stdout",
          "text": [
            "데이터 정보\n",
            "--------------------------------------------------\n",
            "x_train : (3950,)\n",
            "y_train : (3950,)\n",
            "label 종류: {'갈취 대화', '직장 내 괴롭힘 대화', '협박 대화', '기타 괴롭힘 대화'}\n",
            "--------------------------------------------------\n",
            "클래스의 수 : 4\n",
            "--------------------------------------------------\n",
            "훈련용 뉴스의 최대 길이 :874\n",
            "훈련용 뉴스의 평균 길이 :226.57088607594937\n"
          ]
        },
        {
          "output_type": "display_data",
          "data": {
            "text/plain": [
              "<Figure size 1500x500 with 2 Axes>"
            ],
            "image/png": "[encoded data removed]"
          },
          "metadata": {}
        }
      ]
    },
    {
      "cell_type": "code",
      "source": [
        "fig, axes = plt.subplots(nrows=2, ncols=2, figsize=(15, 5))\n",
        "\n",
        "# Plot the histogram of sample lengths\n",
        "axes[0][0].hist([len(s) for s in train_data['conversation'][train_data['class']=='협박 대화']], bins=50)\n",
        "axes[0][0].set_xlabel('length of samples')\n",
        "axes[0][0].set_ylabel('number of samples')\n",
        "axes[0][0].set_title('협박 대화')\n",
        "\n",
        "axes[0][1].hist([len(s) for s in train_data['conversation'][train_data['class']=='갈취 대화']], bins=50)\n",
        "axes[0][1].set_xlabel('length of samples')\n",
        "axes[0][1].set_ylabel('number of samples')\n",
        "axes[0][1].set_title('갈취 대화')\n",
        "\n",
        "axes[1][0].hist([len(s) for s in train_data['conversation'][train_data['class']=='직장 내 괴롭힘 대화']], bins=50)\n",
        "axes[1][0].set_xlabel('length of samples')\n",
        "axes[1][0].set_ylabel('number of samples')\n",
        "axes[1][0].set_title('직장 내 괴롭힘 대화')\n",
        "\n",
        "axes[1][1].hist([len(s) for s in train_data['conversation'][train_data['class']=='기타 괴롭힘 대화']\n",
        "], bins=50)\n",
        "axes[1][1].set_xlabel('length of samples')\n",
        "axes[1][1].set_ylabel('number of samples')\n",
        "axes[1][1].set_title('기타 괴롭힘 대화')\n",
        "\n",
        "plt.subplots_adjust(wspace=0.3, hspace=0.5)\n",
        "plt.show()"
      ],
      "metadata": {
        "colab": {
          "base_uri": "https://localhost:8080/",
          "height": 438
        },
        "id": "NLzSxxhehrYo",
        "outputId": "a2507889-4825-4199-8e95-284dfb65d44f"
      },
      "execution_count": 14,
      "outputs": [
        {
          "output_type": "display_data",
          "data": {
            "text/plain": [
              "<Figure size 1500x500 with 4 Axes>"
            ],
            "image/png": "[encoded data removed]"
          },
          "metadata": {}
        }
      ]
    },
    {
      "cell_type": "code",
      "source": [
        "from collections import Counter\n",
        "import re\n",
        "\n",
        "# 불용어(stop_words) 목록 정의 (조사, 접속사 등)\n",
        "# 일단은 작은 불용어 사전을 이용하여 빈도수 측정\n",
        "stop_words = ['은', '는', '이', '가', '다', '을', '를', '에', '와', '과', '에서']\n",
        "\n",
        "# 텍스트 전처리 및 키워드 추출 함수\n",
        "def get_keywords(text):\n",
        "    text = re.sub(r'[^가-힣\\s]', '', text) # 한글과 공백만 남기기\n",
        "    words = text.split()\n",
        "    return [word for word in words if word not in stop_words and len(word) > 1] # 불용어 및 한 글자 단어 제거\n",
        "\n",
        "# 각 클래스별 키워드 빈도 분석\n",
        "for cls in train_data['class'].unique():\n",
        "    class_df = train_data[train_data['class'] == cls]\n",
        "    all_text = ' '.join(class_df['conversation'])\n",
        "    keywords = get_keywords(all_text)\n",
        "\n",
        "    # 상위 10개 키워드 출력\n",
        "    print(f\"\\n--- {cls}의 주요 키워드 ---\")\n",
        "    print(Counter(keywords).most_common(10))"
      ],
      "metadata": {
        "colab": {
          "base_uri": "https://localhost:8080/"
        },
        "id": "co951n1ErL8X",
        "outputId": "ac322a8d-822e-426b-da29-25e72ecad581"
      },
      "execution_count": 22,
      "outputs": [
        {
          "output_type": "stream",
          "name": "stdout",
          "text": [
            "\n",
            "--- 협박 대화의 주요 키워드 ---\n",
            "[('내가', 923), ('제발', 397), ('지금', 337), ('진짜', 311), ('그냥', 241), ('니가', 241), ('그래', 228), ('죄송합니다', 222), ('아니', 219), ('그럼', 208)]\n",
            "\n",
            "--- 기타 괴롭힘 대화의 주요 키워드 ---\n",
            "[('내가', 647), ('진짜', 440), ('아니', 375), ('그냥', 314), ('그래', 245), ('지금', 233), ('아니야', 225), ('그렇게', 223), ('무슨', 222), ('니가', 218)]\n",
            "\n",
            "--- 갈취 대화의 주요 키워드 ---\n",
            "[('내가', 704), ('진짜', 400), ('그럼', 366), ('이거', 362), ('아니', 343), ('지금', 316), ('그래', 273), ('돈이', 255), ('없어', 241), ('그냥', 237)]\n",
            "\n",
            "--- 직장 내 괴롭힘 대화의 주요 키워드 ---\n",
            "[('죄송합니다', 840), ('내가', 535), ('아니', 389), ('제가', 386), ('지금', 324), ('그럼', 275), ('오늘', 243), ('부장님', 239), ('무슨', 217), ('그렇게', 199)]\n"
          ]
        }
      ]
    },
    {
      "cell_type": "code",
      "source": [],
      "metadata": {
        "id": "2WSrEfh6rxK4"
      },
      "execution_count": null,
      "outputs": []
    }
  ]
}