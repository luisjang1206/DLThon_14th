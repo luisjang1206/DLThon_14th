{
 "nbformat": 4,
 "nbformat_minor": 0,
 "metadata": {
  "colab": {
   "provenance": [],
   "collapsed_sections": [
    "a7uhNxnfjoiE"
   ],
   "gpuType": "V28"
  },
  "kernelspec": {
   "name": "python3",
   "display_name": "Python 3 (ipykernel)",
   "language": "python"
  },
  "language_info": {
   "name": "python"
  },
  "accelerator": "TPU"
 },
 "cells": [
  {
   "cell_type": "markdown",
   "source": [
    "### 한글폰트"
   ],
   "metadata": {
    "id": "a7uhNxnfjoiE"
   }
  },
  {
   "cell_type": "code",
   "source": [
    "!sudo apt-get update -qq # 폰트 설정을 위한 코드\n",
    "!sudo apt-get install fonts-nanum* -qq\n",
    "!sudo fc-cache -fv"
   ],
   "metadata": {
    "collapsed": true,
    "colab": {
     "base_uri": "https://localhost:8080/"
    },
    "id": "SWtk4MdSiHrD",
    "outputId": "c15f4469-15d0-4774-c9b7-359244c3add1",
    "ExecuteTime": {
     "end_time": "2025-08-21T05:45:57.332482Z",
     "start_time": "2025-08-21T05:45:04.327334Z"
    }
   },
   "outputs": [
    {
     "name": "stdout",
     "output_type": "stream",
     "text": [
      "/bin/bash: warning: setlocale: LC_ALL: cannot change locale (en_US.UTF-8)\r\n",
      "[sudo] password for cjm: \r\n",
      "/bin/bash: warning: setlocale: LC_ALL: cannot change locale (en_US.UTF-8)\r\n",
      "[sudo] password for cjm: \r\n",
      "/bin/bash: warning: setlocale: LC_ALL: cannot change locale (en_US.UTF-8)\r\n",
      "[sudo] password for cjm: \r\n"
     ]
    }
   ],
   "execution_count": 1
  },
  {
   "cell_type": "code",
   "source": [
    "import matplotlib.pyplot as plt\n",
    "import matplotlib.font_manager as fm\n",
    "\n",
    "# 나눔 폰트 설치 경로 확인\n",
    "font_path = '/usr/share/fonts/truetype/nanum/NanumGothic.ttf'\n",
    "\n",
    "# 폰트 매니저에 폰트 추가\n",
    "font_prop = fm.FontProperties(fname=font_path)\n",
    "plt.rc('font', family=font_prop.get_name())"
   ],
   "metadata": {
    "id": "LVj8we0YjTzJ",
    "ExecuteTime": {
     "end_time": "2025-08-21T07:55:25.125185Z",
     "start_time": "2025-08-21T07:55:25.057578Z"
    }
   },
   "outputs": [],
   "execution_count": 27
  },
  {
   "cell_type": "code",
   "source": [
    "import matplotlib.pyplot as plt\n",
    "\n",
    "plt.plot([1, 2, 3], [4, 5, 6])\n",
    "plt.title('한글 제목') # 한글 제목이 정상적으로 표시되는지 확인\n",
    "plt.show()"
   ],
   "metadata": {
    "colab": {
     "base_uri": "https://localhost:8080/",
     "height": 450
    },
    "id": "eRsv-ucajRVL",
    "outputId": "81eeb2b5-5dea-4bb3-8eaf-2f69401f9cad",
    "ExecuteTime": {
     "end_time": "2025-08-21T07:55:27.008232Z",
     "start_time": "2025-08-21T07:55:26.249555Z"
    }
   },
   "outputs": [
    {
     "data": {
      "text/plain": [
       "<Figure size 640x480 with 1 Axes>"
      ],
      "image/png": "[encoded data removed]"
     },
     "metadata": {},
     "output_type": "display_data"
    }
   ],
   "execution_count": 28
  },
  {
   "cell_type": "markdown",
   "source": [
    "## 데이터 다운로드"
   ],
   "metadata": {
    "id": "szn6rKHOgAZL"
   }
  },
  {
   "cell_type": "code",
   "metadata": {
    "colab": {
     "base_uri": "https://localhost:8080/",
     "height": 95
    },
    "id": "3O3SSO3fbTCh",
    "outputId": "bf91a448-4285-4999-94a2-0592876405d4",
    "ExecuteTime": {
     "end_time": "2025-08-21T05:48:37.733493Z",
     "start_time": "2025-08-21T05:48:37.710635Z"
    }
   },
   "source": [
    "from google.colab import files\n",
    "files.upload()"
   ],
   "outputs": [
    {
     "ename": "ModuleNotFoundError",
     "evalue": "No module named 'google.colab'",
     "output_type": "error",
     "traceback": [
      "\u001B[31m---------------------------------------------------------------------------\u001B[39m",
      "\u001B[31mModuleNotFoundError\u001B[39m                       Traceback (most recent call last)",
      "\u001B[36mCell\u001B[39m\u001B[36m \u001B[39m\u001B[32mIn[8]\u001B[39m\u001B[32m, line 1\u001B[39m\n\u001B[32m----> \u001B[39m\u001B[32m1\u001B[39m \u001B[38;5;28;01mfrom\u001B[39;00m\u001B[38;5;250m \u001B[39m\u001B[34;01mgoogle\u001B[39;00m\u001B[34;01m.\u001B[39;00m\u001B[34;01mcolab\u001B[39;00m\u001B[38;5;250m \u001B[39m\u001B[38;5;28;01mimport\u001B[39;00m files\n\u001B[32m      2\u001B[39m files.upload()\n",
      "\u001B[31mModuleNotFoundError\u001B[39m: No module named 'google.colab'"
     ]
    }
   ],
   "execution_count": 8
  },
  {
   "cell_type": "code",
   "source": [
    "# Make a directory named kaggle and copy the kaggle. json file there\n",
    "!mkdir C:\\Users\\jung0\\OneDrive\\Desktop\\aiffel\\dlton\\DLThon_14th\\.kaggle\n",
    "!cp kaggle.json ~/.kaggle/\n",
    "# change the permission of the file\n",
    "!chmod 600 ~/.kaggle/kaggle.json"
   ],
   "metadata": {
    "colab": {
     "base_uri": "https://localhost:8080/"
    },
    "id": "l_kb1MX8dFm0",
    "outputId": "a74d57de-2737-4a9f-a6b4-80c52fbea707",
    "ExecuteTime": {
     "end_time": "2025-08-21T05:48:53.343007Z",
     "start_time": "2025-08-21T05:48:52.992625Z"
    }
   },
   "outputs": [
    {
     "name": "stdout",
     "output_type": "stream",
     "text": [
      "/bin/bash: warning: setlocale: LC_ALL: cannot change locale (en_US.UTF-8)\r\n",
      "/bin/bash: warning: setlocale: LC_ALL: cannot change locale (en_US.UTF-8)\r\n",
      "cp: cannot stat 'kaggle.json': No such file or directory\r\n",
      "/bin/bash: warning: setlocale: LC_ALL: cannot change locale (en_US.UTF-8)\r\n",
      "chmod: cannot access '/home/cjm/.kaggle/kaggle.json': No such file or directory\r\n"
     ]
    }
   ],
   "execution_count": 9
  },
  {
   "cell_type": "code",
   "source": [
    "!kaggle competitions download -c aiffel-dl-thon-dktc-online-14"
   ],
   "metadata": {
    "colab": {
     "base_uri": "https://localhost:8080/"
    },
    "id": "cNH4197zdgae",
    "outputId": "c469a8c3-9830-4f8f-c301-70cf3b4197e8"
   },
   "execution_count": 6,
   "outputs": [
    {
     "output_type": "stream",
     "name": "stdout",
     "text": [
      "aiffel-dl-thon-dktc-online-14.zip: Skipping, found more recently modified local copy (use --force to force download)\n"
     ]
    }
   ]
  },
  {
   "cell_type": "code",
   "source": [
    "from zipfile import ZipFile\n",
    "file_name = \"/content/aiffel-dl-thon-dktc-online-14.zip\"\n",
    "\n",
    "with ZipFile(file_name, 'r') as zip:\n",
    "  zip.extractall()\n",
    "  print('done')"
   ],
   "metadata": {
    "colab": {
     "base_uri": "https://localhost:8080/"
    },
    "id": "YsqYkc-adh5S",
    "outputId": "afe8eeaa-7c18-4b1d-d252-47bdf5dba671"
   },
   "execution_count": 7,
   "outputs": [
    {
     "output_type": "stream",
     "name": "stdout",
     "text": [
      "done\n"
     ]
    }
   ]
  },
  {
   "cell_type": "markdown",
   "source": [
    "## 데이터 처리"
   ],
   "metadata": {
    "id": "LBJSX2CQgD0Y"
   }
  },
  {
   "metadata": {
    "ExecuteTime": {
     "end_time": "2025-08-21T05:58:40.942039Z",
     "start_time": "2025-08-21T05:58:40.816653Z"
    }
   },
   "cell_type": "code",
   "source": "!pwd",
   "outputs": [
    {
     "name": "stdout",
     "output_type": "stream",
     "text": [
      "/bin/bash: warning: setlocale: LC_ALL: cannot change locale (en_US.UTF-8)\r\n",
      "/mnt/c/Users/jung0/OneDrive/Desktop/aiffel/dlton/DLThon_14th\r\n"
     ]
    }
   ],
   "execution_count": 19
  },
  {
   "cell_type": "code",
   "source": [
    "import pandas as pd\n",
    "\n",
    "# 데이터 읽기\n",
    "train_data = pd.read_csv('data/training.csv', index_col='idx')\n",
    "test_data = pd.read_csv('data/test.csv', index_col='idx')"
   ],
   "metadata": {
    "id": "C-NBjEsCdm_e",
    "ExecuteTime": {
     "end_time": "2025-08-22T02:25:41.316053Z",
     "start_time": "2025-08-22T02:25:41.181968Z"
    }
   },
   "outputs": [],
   "execution_count": 1
  },
  {
   "cell_type": "code",
   "source": [
    "train_data.head()"
   ],
   "metadata": {
    "colab": {
     "base_uri": "https://localhost:8080/",
     "height": 237
    },
    "id": "7qBhWi7xd0gW",
    "outputId": "dda0a4ea-169d-4831-9021-88cc7a128cf4",
    "ExecuteTime": {
     "end_time": "2025-08-22T02:25:41.372535Z",
     "start_time": "2025-08-22T02:25:41.352096Z"
    }
   },
   "outputs": [
    {
     "data": {
      "text/plain": [
       "         class                                       conversation\n",
       "idx                                                              \n",
       "0        협박 대화  지금 너 스스로를 죽여달라고 애원하는 것인가?\\n 아닙니다. 죄송합니다.\\n 죽을 ...\n",
       "1        협박 대화  길동경찰서입니다.\\n9시 40분 마트에 폭발물을 설치할거다.\\n네?\\n똑바로 들어 ...\n",
       "2    기타 괴롭힘 대화  너 되게 귀여운거 알지? 나보다 작은 남자는 첨봤어.\\n그만해. 니들 놀리는거 재미...\n",
       "3        갈취 대화  어이 거기\\n예??\\n너 말이야 너. 이리 오라고\\n무슨 일.\\n너 옷 좋아보인다?...\n",
       "4        갈취 대화  저기요 혹시 날이 너무 뜨겁잖아요? 저희 회사에서 이 선크림 파는데 한 번 손등에 ..."
      ],
      "text/html": [
       "<div>\n",
       "<style scoped>\n",
       "    .dataframe tbody tr th:only-of-type {\n",
       "        vertical-align: middle;\n",
       "    }\n",
       "\n",
       "    .dataframe tbody tr th {\n",
       "        vertical-align: top;\n",
       "    }\n",
       "\n",
       "    .dataframe thead th {\n",
       "        text-align: right;\n",
       "    }\n",
       "</style>\n",
       "<table border=\"1\" class=\"dataframe\">\n",
       "  <thead>\n",
       "    <tr style=\"text-align: right;\">\n",
       "      <th></th>\n",
       "      <th>class</th>\n",
       "      <th>conversation</th>\n",
       "    </tr>\n",
       "    <tr>\n",
       "      <th>idx</th>\n",
       "      <th></th>\n",
       "      <th></th>\n",
       "    </tr>\n",
       "  </thead>\n",
       "  <tbody>\n",
       "    <tr>\n",
       "      <th>0</th>\n",
       "      <td>협박 대화</td>\n",
       "      <td>지금 너 스스로를 죽여달라고 애원하는 것인가?\\n 아닙니다. 죄송합니다.\\n 죽을 ...</td>\n",
       "    </tr>\n",
       "    <tr>\n",
       "      <th>1</th>\n",
       "      <td>협박 대화</td>\n",
       "      <td>길동경찰서입니다.\\n9시 40분 마트에 폭발물을 설치할거다.\\n네?\\n똑바로 들어 ...</td>\n",
       "    </tr>\n",
       "    <tr>\n",
       "      <th>2</th>\n",
       "      <td>기타 괴롭힘 대화</td>\n",
       "      <td>너 되게 귀여운거 알지? 나보다 작은 남자는 첨봤어.\\n그만해. 니들 놀리는거 재미...</td>\n",
       "    </tr>\n",
       "    <tr>\n",
       "      <th>3</th>\n",
       "      <td>갈취 대화</td>\n",
       "      <td>어이 거기\\n예??\\n너 말이야 너. 이리 오라고\\n무슨 일.\\n너 옷 좋아보인다?...</td>\n",
       "    </tr>\n",
       "    <tr>\n",
       "      <th>4</th>\n",
       "      <td>갈취 대화</td>\n",
       "      <td>저기요 혹시 날이 너무 뜨겁잖아요? 저희 회사에서 이 선크림 파는데 한 번 손등에 ...</td>\n",
       "    </tr>\n",
       "  </tbody>\n",
       "</table>\n",
       "</div>"
      ]
     },
     "execution_count": 2,
     "metadata": {},
     "output_type": "execute_result"
    }
   ],
   "execution_count": 2
  },
  {
   "cell_type": "code",
   "source": [
    "test_data.head()"
   ],
   "metadata": {
    "colab": {
     "base_uri": "https://localhost:8080/",
     "height": 237
    },
    "id": "QYHeYLnxd3Ys",
    "outputId": "27453dfe-a29c-46d3-8335-e5cd7bfa86d7",
    "ExecuteTime": {
     "end_time": "2025-08-22T02:25:41.533161Z",
     "start_time": "2025-08-22T02:25:41.522985Z"
    }
   },
   "outputs": [
    {
     "data": {
      "text/plain": [
       "                                                    text\n",
       "idx                                                     \n",
       "t_000  아가씨 담배한갑주소 네 4500원입니다 어 네 지갑어디갔지 에이 버스에서 잃어버렸나...\n",
       "t_001  우리팀에서 다른팀으로 갈 사람 없나? 그럼 영지씨가 가는건 어때?  네? 제가요? ...\n",
       "t_002  너 오늘 그게 뭐야 네 제가 뭘 잘못했나요.? 제대로 좀 하지 네 똑바로 좀 하지 ...\n",
       "t_003  이거 들어바 와 이 노래 진짜 좋다 그치 요즘 이 것만 들어 진짜 너무 좋다 내가 ...\n",
       "t_004  아무튼 앞으로 니가 내 와이파이야. .응 와이파이 온. 켰어. 반말? 주인님이라고도..."
      ],
      "text/html": [
       "<div>\n",
       "<style scoped>\n",
       "    .dataframe tbody tr th:only-of-type {\n",
       "        vertical-align: middle;\n",
       "    }\n",
       "\n",
       "    .dataframe tbody tr th {\n",
       "        vertical-align: top;\n",
       "    }\n",
       "\n",
       "    .dataframe thead th {\n",
       "        text-align: right;\n",
       "    }\n",
       "</style>\n",
       "<table border=\"1\" class=\"dataframe\">\n",
       "  <thead>\n",
       "    <tr style=\"text-align: right;\">\n",
       "      <th></th>\n",
       "      <th>text</th>\n",
       "    </tr>\n",
       "    <tr>\n",
       "      <th>idx</th>\n",
       "      <th></th>\n",
       "    </tr>\n",
       "  </thead>\n",
       "  <tbody>\n",
       "    <tr>\n",
       "      <th>t_000</th>\n",
       "      <td>아가씨 담배한갑주소 네 4500원입니다 어 네 지갑어디갔지 에이 버스에서 잃어버렸나...</td>\n",
       "    </tr>\n",
       "    <tr>\n",
       "      <th>t_001</th>\n",
       "      <td>우리팀에서 다른팀으로 갈 사람 없나? 그럼 영지씨가 가는건 어때?  네? 제가요? ...</td>\n",
       "    </tr>\n",
       "    <tr>\n",
       "      <th>t_002</th>\n",
       "      <td>너 오늘 그게 뭐야 네 제가 뭘 잘못했나요.? 제대로 좀 하지 네 똑바로 좀 하지 ...</td>\n",
       "    </tr>\n",
       "    <tr>\n",
       "      <th>t_003</th>\n",
       "      <td>이거 들어바 와 이 노래 진짜 좋다 그치 요즘 이 것만 들어 진짜 너무 좋다 내가 ...</td>\n",
       "    </tr>\n",
       "    <tr>\n",
       "      <th>t_004</th>\n",
       "      <td>아무튼 앞으로 니가 내 와이파이야. .응 와이파이 온. 켰어. 반말? 주인님이라고도...</td>\n",
       "    </tr>\n",
       "  </tbody>\n",
       "</table>\n",
       "</div>"
      ]
     },
     "execution_count": 3,
     "metadata": {},
     "output_type": "execute_result"
    }
   ],
   "execution_count": 3
  },
  {
   "cell_type": "code",
   "source": [
    "# 데이터 프레임 정보 확인 (열, 결측치 등)\n",
    "print(train_data.info())"
   ],
   "metadata": {
    "colab": {
     "base_uri": "https://localhost:8080/"
    },
    "id": "DS1Sy9XKrpgz",
    "outputId": "c683093f-2bf6-4bf9-f10c-ea48c93fc51e",
    "ExecuteTime": {
     "end_time": "2025-08-22T02:25:42.012929Z",
     "start_time": "2025-08-22T02:25:41.990495Z"
    }
   },
   "outputs": [
    {
     "name": "stdout",
     "output_type": "stream",
     "text": [
      "<class 'pandas.core.frame.DataFrame'>\n",
      "Index: 4929 entries, 0 to 4928\n",
      "Data columns (total 2 columns):\n",
      " #   Column        Non-Null Count  Dtype \n",
      "---  ------        --------------  ----- \n",
      " 0   class         4929 non-null   object\n",
      " 1   conversation  4929 non-null   object\n",
      "dtypes: object(2)\n",
      "memory usage: 115.5+ KB\n",
      "None\n"
     ]
    }
   ],
   "execution_count": 4
  },
  {
   "cell_type": "code",
   "source": [
    "class_counts = train_data.groupby('class').size()\n",
    "print(class_counts)"
   ],
   "metadata": {
    "colab": {
     "base_uri": "https://localhost:8080/"
    },
    "id": "8zJk6vEcd4qx",
    "outputId": "2ccfbf82-ee77-493a-95c4-cf09c64bcf28",
    "ExecuteTime": {
     "end_time": "2025-08-22T02:25:42.433008Z",
     "start_time": "2025-08-22T02:25:42.418918Z"
    }
   },
   "outputs": [
    {
     "name": "stdout",
     "output_type": "stream",
     "text": [
      "class\n",
      "갈취 대화           981\n",
      "기타 괴롭힘 대화      1094\n",
      "일반 대화           979\n",
      "직장 내 괴롭힘 대화     979\n",
      "협박 대화           896\n",
      "dtype: int64\n"
     ]
    }
   ],
   "execution_count": 5
  },
  {
   "cell_type": "code",
   "source": [
    "# 'class' 열의 고유값별 개수 세기\n",
    "class_counts = train_data['class'].value_counts()\n",
    "\n",
    "# 결과 출력\n",
    "print(\"클래스별 데이터 개수:\\n\", class_counts)\n",
    "\n",
    "# 비율 계산 및 출력\n",
    "class_proportions = train_data['class'].value_counts(normalize=True) * 100\n",
    "print(\"\\n클래스별 데이터 비율 (%):\\n\", class_proportions)"
   ],
   "metadata": {
    "colab": {
     "base_uri": "https://localhost:8080/"
    },
    "id": "pchVoGkNr47g",
    "outputId": "4087eeb0-a823-4b16-c901-0372a161a6d3",
    "ExecuteTime": {
     "end_time": "2025-08-22T02:25:52.282856Z",
     "start_time": "2025-08-22T02:25:52.267096Z"
    }
   },
   "outputs": [
    {
     "name": "stdout",
     "output_type": "stream",
     "text": [
      "클래스별 데이터 개수:\n",
      " class\n",
      "기타 괴롭힘 대화      1094\n",
      "갈취 대화           981\n",
      "직장 내 괴롭힘 대화     979\n",
      "일반 대화           979\n",
      "협박 대화           896\n",
      "Name: count, dtype: int64\n",
      "\n",
      "클래스별 데이터 비율 (%):\n",
      " class\n",
      "기타 괴롭힘 대화      22.195171\n",
      "갈취 대화          19.902617\n",
      "직장 내 괴롭힘 대화    19.862041\n",
      "일반 대화          19.862041\n",
      "협박 대화          18.178129\n",
      "Name: proportion, dtype: float64\n"
     ]
    }
   ],
   "execution_count": 7
  },
  {
   "cell_type": "code",
   "source": [
    "x_train = train_data['conversation']\n",
    "y_train = train_data['class']"
   ],
   "metadata": {
    "id": "PRTVdtobgb3m",
    "ExecuteTime": {
     "end_time": "2025-08-22T02:25:55.559678Z",
     "start_time": "2025-08-22T02:25:55.555767Z"
    }
   },
   "outputs": [],
   "execution_count": 8
  },
  {
   "cell_type": "markdown",
   "source": [
    "## 데이터 길이, 클래스 분포 확인"
   ],
   "metadata": {
    "id": "r6gIBvEihaf9"
   }
  },
  {
   "cell_type": "code",
   "source": [
    "import matplotlib.pyplot as plt\n",
    "import matplotlib.font_manager as fm\n",
    "\n",
    "# 나눔 폰트 설치 경로 확인\n",
    "font_path = '/usr/share/fonts/truetype/nanum/NanumGothic.ttf'\n",
    "\n",
    "# 폰트 매니저에 폰트 추가\n",
    "font_prop = fm.FontProperties(fname=font_path)\n",
    "plt.rc('font', family=font_prop.get_name())\n",
    "import numpy as np\n",
    "import pandas as pd\n",
    "import seaborn as sns\n",
    "\n",
    "print('데이터 정보')\n",
    "print('-'*50)\n",
    "print('x_train :',x_train.shape)\n",
    "print('y_train :',y_train.shape)\n",
    "print('label 종류:', set(y_train))\n",
    "print('-'*50)\n",
    "num_classes = 5\n",
    "print('클래스의 수 : {}'.format(num_classes))\n",
    "print('-'*50)\n",
    "print('훈련용 뉴스의 최대 길이 :{}'.format(max(len(l) for l in x_train)))\n",
    "print('훈련용 뉴스의 평균 길이 :{}'.format(sum(map(len, x_train))/len(x_train)))\n",
    "\n",
    "# Create a figure with two subplots\n",
    "fig, axes = plt.subplots(nrows=1, ncols=2, figsize=(15, 5))\n",
    "\n",
    "# Plot the histogram of sample lengths\n",
    "axes[0].hist([len(s) for s in x_train], bins=50)\n",
    "axes[0].set_xlabel('length of samples')\n",
    "axes[0].set_ylabel('number of samples')\n",
    "axes[0].set_title('Sample Length Distribution')\n",
    "\n",
    "# Plot the count of each class\n",
    "sns.countplot(x=y_train, ax=axes[1])\n",
    "axes[1].set_title('Class Distribution')\n",
    "\n",
    "# Adjust layout\n",
    "plt.tight_layout()\n",
    "\n",
    "# Show the plots\n",
    "plt.show()"
   ],
   "metadata": {
    "colab": {
     "base_uri": "https://localhost:8080/",
     "height": 564
    },
    "id": "y6bvZmUxha11",
    "outputId": "86290f84-a8fc-427a-947e-e7f045904c85",
    "ExecuteTime": {
     "end_time": "2025-08-22T02:25:58.119720Z",
     "start_time": "2025-08-22T02:25:57.633430Z"
    }
   },
   "outputs": [
    {
     "name": "stdout",
     "output_type": "stream",
     "text": [
      "데이터 정보\n",
      "--------------------------------------------------\n",
      "x_train : (4929,)\n",
      "y_train : (4929,)\n",
      "label 종류: {'갈취 대화', '기타 괴롭힘 대화', '협박 대화', '직장 내 괴롭힘 대화', '일반 대화'}\n",
      "--------------------------------------------------\n",
      "클래스의 수 : 5\n",
      "--------------------------------------------------\n",
      "훈련용 뉴스의 최대 길이 :874\n",
      "훈련용 뉴스의 평균 길이 :216.85088253195374\n"
     ]
    },
    {
     "data": {
      "text/plain": [
       "<Figure size 1500x500 with 2 Axes>"
      ],
      "image/png": "[encoded data removed]"
     },
     "metadata": {},
     "output_type": "display_data"
    }
   ],
   "execution_count": 9
  },
  {
   "cell_type": "code",
   "source": [
    "import matplotlib.pyplot as plt\n",
    "\n",
    "# 5개 클래스 이름 (원하는 순서대로 나열)\n",
    "classes = [\n",
    "    \"협박 대화\",\n",
    "    \"갈취 대화\",\n",
    "    \"직장 내 괴롭힘 대화\",\n",
    "    \"기타 괴롭힘 대화\",\n",
    "    \"일반 대화\"\n",
    "]\n",
    "\n",
    "# 2행 3열 subplot 생성\n",
    "fig, axes = plt.subplots(nrows=2, ncols=3, figsize=(18, 8))\n",
    "\n",
    "# axes를 1차원 리스트로 변환\n",
    "axes = axes.flatten()\n",
    "\n",
    "# 각 클래스별 히스토그램 그리기\n",
    "for i, cls in enumerate(classes):\n",
    "    axes[i].hist([len(s) for s in train_data['conversation'][train_data['class'] == cls]], bins=50)\n",
    "    axes[i].set_xlabel('length of samples')\n",
    "    axes[i].set_ylabel('number of samples')\n",
    "    axes[i].set_title(cls)\n",
    "\n",
    "# 남는 subplot 숨기기 (2×3=6개 중 1개는 비어있음)\n",
    "for j in range(len(classes), len(axes)):\n",
    "    fig.delaxes(axes[j])\n",
    "\n",
    "plt.subplots_adjust(wspace=0.3, hspace=0.5)\n",
    "plt.show()\n"
   ],
   "metadata": {
    "colab": {
     "base_uri": "https://localhost:8080/",
     "height": 438
    },
    "id": "NLzSxxhehrYo",
    "outputId": "a2507889-4825-4199-8e95-284dfb65d44f",
    "ExecuteTime": {
     "end_time": "2025-08-22T02:26:34.018724Z",
     "start_time": "2025-08-22T02:26:33.125485Z"
    }
   },
   "outputs": [
    {
     "data": {
      "text/plain": [
       "<Figure size 1800x800 with 5 Axes>"
      ],
      "image/png": "[encoded data removed]"
     },
     "metadata": {},
     "output_type": "display_data"
    }
   ],
   "execution_count": 10
  },
  {
   "cell_type": "code",
   "source": [
    "from collections import Counter\n",
    "import re\n",
    "\n",
    "# 불용어(stop_words) 목록 정의 (조사, 접속사 등)\n",
    "# 일단은 작은 불용어 사전을 이용하여 빈도수 측정\n",
    "stop_words = ['은', '는', '이', '가', '다', '을', '를', '에', '와', '과', '에서']\n",
    "\n",
    "# 텍스트 전처리 및 키워드 추출 함수\n",
    "def get_keywords(text):\n",
    "    text = re.sub(r'[^가-힣\\s]', '', text) # 한글과 공백만 남기기\n",
    "    words = text.split()\n",
    "    return [word for word in words if word not in stop_words and len(word) > 1] # 불용어 및 한 글자 단어 제거\n",
    "\n",
    "# 각 클래스별 키워드 빈도 분석\n",
    "for cls in train_data['class'].unique():\n",
    "    class_df = train_data[train_data['class'] == cls]\n",
    "    all_text = ' '.join(class_df['conversation'])\n",
    "    keywords = get_keywords(all_text)\n",
    "\n",
    "    # 상위 10개 키워드 출력\n",
    "    print(f\"\\n--- {cls}의 주요 키워드 ---\")\n",
    "    print(Counter(keywords).most_common(10))"
   ],
   "metadata": {
    "colab": {
     "base_uri": "https://localhost:8080/"
    },
    "id": "co951n1ErL8X",
    "outputId": "ac322a8d-822e-426b-da29-25e72ecad581",
    "ExecuteTime": {
     "end_time": "2025-08-21T07:55:53.684682Z",
     "start_time": "2025-08-21T07:55:52.064432Z"
    }
   },
   "outputs": [
    {
     "name": "stdout",
     "output_type": "stream",
     "text": [
      "\n",
      "--- 협박 대화의 주요 키워드 ---\n",
      "[('내가', 923), ('제발', 397), ('지금', 337), ('진짜', 311), ('그냥', 241), ('니가', 241), ('그래', 228), ('죄송합니다', 222), ('아니', 219), ('그럼', 208)]\n",
      "\n",
      "--- 기타 괴롭힘 대화의 주요 키워드 ---\n",
      "[('내가', 647), ('진짜', 440), ('아니', 375), ('그냥', 314), ('그래', 245), ('지금', 233), ('아니야', 225), ('그렇게', 223), ('무슨', 222), ('니가', 218)]\n",
      "\n",
      "--- 갈취 대화의 주요 키워드 ---\n",
      "[('내가', 704), ('진짜', 400), ('그럼', 366), ('이거', 362), ('아니', 343), ('지금', 316), ('그래', 273), ('돈이', 255), ('없어', 241), ('그냥', 237)]\n",
      "\n",
      "--- 직장 내 괴롭힘 대화의 주요 키워드 ---\n",
      "[('죄송합니다', 840), ('내가', 535), ('아니', 389), ('제가', 386), ('지금', 324), ('그럼', 275), ('오늘', 243), ('부장님', 239), ('무슨', 217), ('그렇게', 199)]\n",
      "\n",
      "--- 일반 대화의 주요 키워드 ---\n",
      "[('좋아해', 444), ('정말', 313), ('있어', 183), ('영화', 168), ('주말에', 159), ('많이', 158), ('같이', 157), ('어때', 152), ('주로', 152), ('어떤', 146)]\n"
     ]
    }
   ],
   "execution_count": 38
  },
  {
   "cell_type": "code",
   "source": [
    "# kc_electra_accel_safe.py\n",
    "import os, numpy as np\n",
    "from typing import List\n",
    "from sklearn.model_selection import train_test_split\n",
    "from sklearn.metrics import accuracy_score, f1_score, confusion_matrix, classification_report\n",
    "\n",
    "import torch\n",
    "from torch import nn\n",
    "from torch.utils.data import DataLoader\n",
    "\n",
    "from accelerate import Accelerator\n",
    "from accelerate.state import AcceleratorState\n",
    "from accelerate.utils import ProjectConfiguration\n",
    "\n",
    "from transformers import (\n",
    "    AutoTokenizer, AutoModelForSequenceClassification,\n",
    "    DataCollatorWithPadding, get_linear_schedule_with_warmup,\n",
    "    BitsAndBytesConfig\n",
    ")\n",
    "\n",
    "# --- 환경변수: CUDA 메모리 파편화 방지 & 경고 억제\n",
    "os.environ.setdefault(\"PYTORCH_CUDA_ALLOC_CONF\", \"expandable_segments:True\")\n",
    "os.environ.setdefault(\"TRANSFORMERS_NO_ADVISORY_WARNINGS\", \"1\")\n",
    "\n",
    "# ===== 데이터 (사용자 제공) =====\n",
    "LABELS = ['협박 대화','갈취 대화','직장 내 괴롭힘 대화','기타 괴롭힘 대화','일반 대화']\n",
    "label2id = {l:i for i,l in enumerate(LABELS)}\n",
    "id2label = {i:l for l,i in label2id.items()}\n",
    "\n",
    "# x_train, y_train = ...  # (4713,)\n",
    "\n",
    "X_tr, X_val, y_tr, y_val = train_test_split(\n",
    "    x_train, y_train, test_size=0.15, random_state=42, stratify=y_train\n",
    ")\n",
    "\n",
    "# ===== 토크나이저/전처리 =====\n",
    "MODEL_ID = \"beomi/KcELECTRA-base-v2022\"\n",
    "tok = AutoTokenizer.from_pretrained(MODEL_ID)\n",
    "\n",
    "MAX_LEN = 128   # 안전 시작(필요시 160/192/256로 증가)\n",
    "def preprocess(batch):\n",
    "    return tok(batch[\"text\"], truncation=True, max_length=MAX_LEN)\n",
    "\n",
    "from datasets import Dataset\n",
    "train_ds = Dataset.from_dict({\"text\": list(X_tr), \"label\": [label2id[y] for y in y_tr]}).map(preprocess, batched=True, remove_columns=[\"text\"])\n",
    "valid_ds = Dataset.from_dict({\"text\": list(X_val), \"label\": [label2id[y] for y in y_val]}).map(preprocess, batched=True, remove_columns=[\"text\"])\n",
    "\n",
    "collator = DataCollatorWithPadding(tokenizer=tok, padding=\"longest\")\n",
    "\n",
    "# ===== 하이퍼파라미터 (메모리 세이프) =====\n",
    "EPOCHS = 3\n",
    "BATCH_TR = 1          # 마이크로 배치 1\n",
    "BATCH_EV = 8\n",
    "ACCUM_STEPS = 32      # 유효 배치 = 1*32 = 32\n",
    "LR = 2e-5\n",
    "WARMUP_RATIO = 0.1\n",
    "WEIGHT_DECAY = 0.01\n",
    "MAX_GRAD_NORM = 1.0\n",
    "\n",
    "# ===== Accelerator 안전 초기화 =====\n",
    "def build_accelerator_safely():\n",
    "    try:\n",
    "        st = AcceleratorState()\n",
    "        return Accelerator(\n",
    "            mixed_precision=st.mixed_precision,           # 기존 상태 재사용(‘no’여도 작동하도록 아래에서 추가 대비)\n",
    "            gradient_accumulation_steps=ACCUM_STEPS,\n",
    "            log_with=None,\n",
    "            project_config=ProjectConfiguration(project_dir=\"kc_out\", logging_dir=\"kc_logs\"),\n",
    "        )\n",
    "    except ValueError:\n",
    "        # 최초 초기화 시 fp16 시도 (bf16 지원이면 알아서 bf16으로 바꾸셔도 됨)\n",
    "        return Accelerator(\n",
    "            mixed_precision=\"fp16\",\n",
    "            gradient_accumulation_steps=ACCUM_STEPS,\n",
    "            log_with=None,\n",
    "            project_config=ProjectConfiguration(project_dir=\"kc_out\", logging_dir=\"kc_logs\"),\n",
    "        )\n",
    "\n",
    "accelerator = build_accelerator_safely()\n",
    "device = accelerator.device\n",
    "accelerator.print(f\"[INFO] mixed_precision={accelerator.mixed_precision}, accum_steps={ACCUM_STEPS}, MAX_LEN={MAX_LEN}\")\n",
    "\n",
    "# ===== 4bit 양자화 + device map 자동 =====\n",
    "from transformers import BitsAndBytesConfig\n",
    "bnb_cfg = BitsAndBytesConfig(\n",
    "    load_in_4bit=True,\n",
    "    bnb_4bit_quant_type=\"nf4\",\n",
    "    bnb_4bit_use_double_quant=True,\n",
    "    bnb_4bit_compute_dtype=torch.float16  # bf16 GPU면 torch.bfloat16\n",
    ")\n",
    "\n",
    "model = AutoModelForSequenceClassification.from_pretrained(\n",
    "    MODEL_ID,\n",
    "    num_labels=len(LABELS),\n",
    "    id2label=id2label, label2id=label2id,\n",
    "    quantization_config=bnb_cfg,      # <<< 4-bit 양자화\n",
    "    device_map=\"auto\"                 # <<< 자동 배치/오프로딩\n",
    ")\n",
    "\n",
    "# encoder freeze (헤드만 학습: 메모리/연산 대폭↓)\n",
    "base = getattr(model, \"electra\", None) or getattr(model, \"base_model\", None)\n",
    "if base is not None:\n",
    "    for p in base.parameters():\n",
    "        p.requires_grad = False\n",
    "\n",
    "# 클래스 가중치 (불균형 보정) — CPU로 두고 사용 시 to(device)\n",
    "import numpy as np\n",
    "class_counts = np.bincount([label2id[y] for y in y_tr], minlength=len(LABELS))\n",
    "w = (class_counts.sum() / np.clip(class_counts, 1, None))\n",
    "w = w / w.mean()\n",
    "criterion = nn.CrossEntropyLoss(weight=torch.tensor(w, dtype=torch.float))\n",
    "\n",
    "# 8-bit AdamW 옵티마이저\n",
    "try:\n",
    "    from bitsandbytes.optim import AdamW8bit\n",
    "    OptimCls = AdamW8bit\n",
    "except Exception:\n",
    "    OptimCls = torch.optim.AdamW   # bnb가 없으면 일반 AdamW fallback\n",
    "\n",
    "optimizer = OptimCls(filter(lambda p: p.requires_grad, model.parameters()),\n",
    "                     lr=LR, weight_decay=WEIGHT_DECAY)\n",
    "\n",
    "train_loader = DataLoader(train_ds, batch_size=BATCH_TR, shuffle=True, collate_fn=collator, num_workers=0, pin_memory=True)\n",
    "valid_loader = DataLoader(valid_ds, batch_size=BATCH_EV, shuffle=False, collate_fn=collator, num_workers=0, pin_memory=True)\n",
    "\n",
    "steps_per_epoch = int(np.ceil(len(train_loader) / ACCUM_STEPS))\n",
    "num_training_steps = EPOCHS * steps_per_epoch\n",
    "scheduler = get_linear_schedule_with_warmup(\n",
    "    optimizer,\n",
    "    num_warmup_steps=int(WARMUP_RATIO * num_training_steps),\n",
    "    num_training_steps=num_training_steps\n",
    ")\n",
    "\n",
    "# prepare (양자화 모델/옵티마/로더/스케줄러 래핑)\n",
    "model, optimizer, train_loader, valid_loader, scheduler = accelerator.prepare(\n",
    "    model, optimizer, train_loader, valid_loader, scheduler\n",
    ")\n",
    "criterion = criterion.to(device)\n",
    "\n",
    "# 혼합정밀이 ‘no’일 수 있으므로, 수동 AMP도 병행 사용 준비\n",
    "use_amp = (device.type == \"cuda\")\n",
    "amp_dtype = torch.bfloat16 if (use_amp and torch.cuda.is_bf16_supported()) else torch.float16\n",
    "\n",
    "def evaluate():\n",
    "    model.eval()\n",
    "    preds_all, labels_all = [], []\n",
    "    with torch.no_grad():\n",
    "        for batch in valid_loader:\n",
    "            labels = batch.pop(\"labels\").to(device, non_blocking=True)\n",
    "            with torch.autocast(device_type=\"cuda\", dtype=amp_dtype, enabled=use_amp):\n",
    "                outputs = model(**{k: v.to(device, non_blocking=True) for k, v in batch.items()})\n",
    "                preds = outputs.logits.argmax(dim=1)\n",
    "            preds_all.append(accelerator.gather_for_metrics(preds))\n",
    "            labels_all.append(accelerator.gather_for_metrics(labels))\n",
    "    y_hat = torch.cat(preds_all).cpu().numpy()\n",
    "    y_true = torch.cat(labels_all).cpu().numpy()\n",
    "    return accuracy_score(y_true, y_hat), f1_score(y_true, y_hat, average=\"macro\"), y_true, y_hat\n",
    "\n",
    "best_mf1, best_path = -1.0, \"kc_out/best_4bit.safetensors\"\n",
    "from safetensors.torch import save_file\n",
    "\n",
    "for epoch in range(1, EPOCHS+1):\n",
    "    model.train()\n",
    "    total = 0.0\n",
    "    from tqdm.auto import tqdm\n",
    "    pbar = tqdm(train_loader, disable=not accelerator.is_local_main_process, desc=f\"Epoch {epoch}/{EPOCHS}\")\n",
    "\n",
    "    for step, batch in enumerate(pbar, start=1):\n",
    "        with accelerator.accumulate(model):\n",
    "            try:\n",
    "                labels = batch.pop(\"labels\").to(device, non_blocking=True)\n",
    "                inputs = {k: v.to(device, non_blocking=True) for k, v in batch.items()}\n",
    "\n",
    "                with torch.autocast(device_type=\"cuda\", dtype=amp_dtype, enabled=use_amp):\n",
    "                    outputs = model(**inputs)\n",
    "                    loss = criterion(outputs.logits, labels)\n",
    "\n",
    "                accelerator.backward(loss)\n",
    "                accelerator.clip_grad_norm_(model.parameters(), MAX_GRAD_NORM)\n",
    "                optimizer.step()\n",
    "                scheduler.step()\n",
    "                optimizer.zero_grad(set_to_none=True)\n",
    "\n",
    "                total += loss.detach().float().item()\n",
    "                if accelerator.is_local_main_process:\n",
    "                    pbar.set_postfix(loss=round(total/step, 4))\n",
    "\n",
    "            except torch.cuda.OutOfMemoryError:\n",
    "                if accelerator.is_local_main_process:\n",
    "                    print(\"⚠️ CUDA OOM: batch skipped\")\n",
    "                optimizer.zero_grad(set_to_none=True)\n",
    "                if torch.cuda.is_available():\n",
    "                    torch.cuda.empty_cache()\n",
    "                continue\n",
    "\n",
    "    acc, mf1, y_true, y_hat = evaluate()\n",
    "    accelerator.print(f\"[Eval] epoch={epoch} acc={acc:.4f} macroF1={mf1:.4f}\")\n",
    "    if accelerator.is_local_main_process and mf1 > best_mf1:\n",
    "        best_mf1 = mf1\n",
    "        os.makedirs(\"kc_out\", exist_ok=True)\n",
    "        state = accelerator.get_state_dict(model)\n",
    "        save_file(state, best_path)\n",
    "        accelerator.print(f\"  ↳ New best saved to {best_path}\")\n",
    "\n",
    "# 최종 리포트\n",
    "if accelerator.is_local_main_process:\n",
    "    from safetensors.torch import load_file\n",
    "    state = load_file(best_path)\n",
    "    model.load_state_dict(state, strict=False)\n",
    "    acc, mf1, y_true, y_hat = evaluate()\n",
    "    print(\"Final Accuracy:\", acc)\n",
    "    print(\"Final Macro-F1:\", mf1)\n",
    "    print(classification_report(y_true, y_hat, target_names=LABELS, digits=4))\n",
    "    print(\"Confusion matrix:\\n\", confusion_matrix(y_true, y_hat))\n",
    "\n",
    "def infer(texts: List[str]):\n",
    "    model.eval()\n",
    "    batch = tok(texts, truncation=True, max_length=MAX_LEN, return_tensors=\"pt\")\n",
    "    with torch.no_grad(), torch.autocast(device_type=\"cuda\", dtype=amp_dtype, enabled=use_amp):\n",
    "        logits = model(**{k: v.to(device) for k, v in batch.items()}).logits\n",
    "    ids = logits.argmax(dim=1).cpu().tolist()\n",
    "    return [id2label[i] for i in ids]\n"
   ],
   "metadata": {
    "id": "2WSrEfh6rxK4",
    "ExecuteTime": {
     "end_time": "2025-08-21T08:08:03.096802Z",
     "start_time": "2025-08-21T08:07:38.582908Z"
    }
   },
   "outputs": [
    {
     "name": "stderr",
     "output_type": "stream",
     "text": [
      "Map: 100%|██████████| 4006/4006 [00:00<00:00, 8074.68 examples/s]\n",
      "Map: 100%|██████████| 707/707 [00:00<00:00, 12665.71 examples/s]\n"
     ]
    },
    {
     "name": "stdout",
     "output_type": "stream",
     "text": [
      "[INFO] mixed_precision=no, accum_steps=32, MAX_LEN=128\n"
     ]
    },
    {
     "ename": "PackageNotFoundError",
     "evalue": "No package metadata was found for bitsandbytes",
     "output_type": "error",
     "traceback": [
      "\u001B[31m---------------------------------------------------------------------------\u001B[39m",
      "\u001B[31mStopIteration\u001B[39m                             Traceback (most recent call last)",
      "\u001B[36mFile \u001B[39m\u001B[32m/usr/lib/python3.12/importlib/metadata/__init__.py:397\u001B[39m, in \u001B[36mDistribution.from_name\u001B[39m\u001B[34m(cls, name)\u001B[39m\n\u001B[32m    396\u001B[39m \u001B[38;5;28;01mtry\u001B[39;00m:\n\u001B[32m--> \u001B[39m\u001B[32m397\u001B[39m     \u001B[38;5;28;01mreturn\u001B[39;00m \u001B[38;5;28;43mnext\u001B[39;49m\u001B[43m(\u001B[49m\u001B[38;5;28;43mcls\u001B[39;49m\u001B[43m.\u001B[49m\u001B[43mdiscover\u001B[49m\u001B[43m(\u001B[49m\u001B[43mname\u001B[49m\u001B[43m=\u001B[49m\u001B[43mname\u001B[49m\u001B[43m)\u001B[49m\u001B[43m)\u001B[49m\n\u001B[32m    398\u001B[39m \u001B[38;5;28;01mexcept\u001B[39;00m \u001B[38;5;167;01mStopIteration\u001B[39;00m:\n",
      "\u001B[31mStopIteration\u001B[39m: ",
      "\nDuring handling of the above exception, another exception occurred:\n",
      "\u001B[31mPackageNotFoundError\u001B[39m                      Traceback (most recent call last)",
      "\u001B[36mCell\u001B[39m\u001B[36m \u001B[39m\u001B[32mIn[43]\u001B[39m\u001B[32m, line 85\u001B[39m\n\u001B[32m     83\u001B[39m \u001B[38;5;66;03m# ===== 4bit 양자화 + device map 자동 =====\u001B[39;00m\n\u001B[32m     84\u001B[39m \u001B[38;5;28;01mfrom\u001B[39;00m\u001B[38;5;250m \u001B[39m\u001B[34;01mtransformers\u001B[39;00m\u001B[38;5;250m \u001B[39m\u001B[38;5;28;01mimport\u001B[39;00m BitsAndBytesConfig\n\u001B[32m---> \u001B[39m\u001B[32m85\u001B[39m bnb_cfg = \u001B[43mBitsAndBytesConfig\u001B[49m\u001B[43m(\u001B[49m\n\u001B[32m     86\u001B[39m \u001B[43m    \u001B[49m\u001B[43mload_in_4bit\u001B[49m\u001B[43m=\u001B[49m\u001B[38;5;28;43;01mTrue\u001B[39;49;00m\u001B[43m,\u001B[49m\n\u001B[32m     87\u001B[39m \u001B[43m    \u001B[49m\u001B[43mbnb_4bit_quant_type\u001B[49m\u001B[43m=\u001B[49m\u001B[33;43m\"\u001B[39;49m\u001B[33;43mnf4\u001B[39;49m\u001B[33;43m\"\u001B[39;49m\u001B[43m,\u001B[49m\n\u001B[32m     88\u001B[39m \u001B[43m    \u001B[49m\u001B[43mbnb_4bit_use_double_quant\u001B[49m\u001B[43m=\u001B[49m\u001B[38;5;28;43;01mTrue\u001B[39;49;00m\u001B[43m,\u001B[49m\n\u001B[32m     89\u001B[39m \u001B[43m    \u001B[49m\u001B[43mbnb_4bit_compute_dtype\u001B[49m\u001B[43m=\u001B[49m\u001B[43mtorch\u001B[49m\u001B[43m.\u001B[49m\u001B[43mfloat16\u001B[49m\u001B[43m  \u001B[49m\u001B[38;5;66;43;03m# bf16 GPU면 torch.bfloat16\u001B[39;49;00m\n\u001B[32m     90\u001B[39m \u001B[43m)\u001B[49m\n\u001B[32m     92\u001B[39m model = AutoModelForSequenceClassification.from_pretrained(\n\u001B[32m     93\u001B[39m     MODEL_ID,\n\u001B[32m     94\u001B[39m     num_labels=\u001B[38;5;28mlen\u001B[39m(LABELS),\n\u001B[32m   (...)\u001B[39m\u001B[32m     97\u001B[39m     device_map=\u001B[33m\"\u001B[39m\u001B[33mauto\u001B[39m\u001B[33m\"\u001B[39m                 \u001B[38;5;66;03m# <<< 자동 배치/오프로딩\u001B[39;00m\n\u001B[32m     98\u001B[39m )\n\u001B[32m    100\u001B[39m \u001B[38;5;66;03m# encoder freeze (헤드만 학습: 메모리/연산 대폭↓)\u001B[39;00m\n",
      "\u001B[36mFile \u001B[39m\u001B[32m~/.virtualenvs/workspace/lib/python3.12/site-packages/transformers/utils/quantization_config.py:510\u001B[39m, in \u001B[36mBitsAndBytesConfig.__init__\u001B[39m\u001B[34m(self, load_in_8bit, load_in_4bit, llm_int8_threshold, llm_int8_skip_modules, llm_int8_enable_fp32_cpu_offload, llm_int8_has_fp16_weight, bnb_4bit_compute_dtype, bnb_4bit_quant_type, bnb_4bit_use_double_quant, bnb_4bit_quant_storage, **kwargs)\u001B[39m\n\u001B[32m    507\u001B[39m \u001B[38;5;28;01mif\u001B[39;00m kwargs:\n\u001B[32m    508\u001B[39m     logger.info(\u001B[33mf\u001B[39m\u001B[33m\"\u001B[39m\u001B[33mUnused kwargs: \u001B[39m\u001B[38;5;132;01m{\u001B[39;00m\u001B[38;5;28mlist\u001B[39m(kwargs.keys())\u001B[38;5;132;01m}\u001B[39;00m\u001B[33m. These kwargs are not used in \u001B[39m\u001B[38;5;132;01m{\u001B[39;00m\u001B[38;5;28mself\u001B[39m.\u001B[34m__class__\u001B[39m\u001B[38;5;132;01m}\u001B[39;00m\u001B[33m.\u001B[39m\u001B[33m\"\u001B[39m)\n\u001B[32m--> \u001B[39m\u001B[32m510\u001B[39m \u001B[38;5;28;43mself\u001B[39;49m\u001B[43m.\u001B[49m\u001B[43mpost_init\u001B[49m\u001B[43m(\u001B[49m\u001B[43m)\u001B[49m\n",
      "\u001B[36mFile \u001B[39m\u001B[32m~/.virtualenvs/workspace/lib/python3.12/site-packages/transformers/utils/quantization_config.py:568\u001B[39m, in \u001B[36mBitsAndBytesConfig.post_init\u001B[39m\u001B[34m(self)\u001B[39m\n\u001B[32m    565\u001B[39m \u001B[38;5;28;01mif\u001B[39;00m \u001B[38;5;129;01mnot\u001B[39;00m \u001B[38;5;28misinstance\u001B[39m(\u001B[38;5;28mself\u001B[39m.bnb_4bit_use_double_quant, \u001B[38;5;28mbool\u001B[39m):\n\u001B[32m    566\u001B[39m     \u001B[38;5;28;01mraise\u001B[39;00m \u001B[38;5;167;01mTypeError\u001B[39;00m(\u001B[33m\"\u001B[39m\u001B[33mbnb_4bit_use_double_quant must be a boolean\u001B[39m\u001B[33m\"\u001B[39m)\n\u001B[32m--> \u001B[39m\u001B[32m568\u001B[39m \u001B[38;5;28;01mif\u001B[39;00m \u001B[38;5;28mself\u001B[39m.load_in_4bit \u001B[38;5;129;01mand\u001B[39;00m \u001B[38;5;129;01mnot\u001B[39;00m version.parse(\u001B[43mimportlib\u001B[49m\u001B[43m.\u001B[49m\u001B[43mmetadata\u001B[49m\u001B[43m.\u001B[49m\u001B[43mversion\u001B[49m\u001B[43m(\u001B[49m\u001B[33;43m\"\u001B[39;49m\u001B[33;43mbitsandbytes\u001B[39;49m\u001B[33;43m\"\u001B[39;49m\u001B[43m)\u001B[49m) >= version.parse(\n\u001B[32m    569\u001B[39m     \u001B[33m\"\u001B[39m\u001B[33m0.39.0\u001B[39m\u001B[33m\"\u001B[39m\n\u001B[32m    570\u001B[39m ):\n\u001B[32m    571\u001B[39m     \u001B[38;5;28;01mraise\u001B[39;00m \u001B[38;5;167;01mValueError\u001B[39;00m(\n\u001B[32m    572\u001B[39m         \u001B[33m\"\u001B[39m\u001B[33m4 bit quantization requires bitsandbytes>=0.39.0 - please upgrade your bitsandbytes version\u001B[39m\u001B[33m\"\u001B[39m\n\u001B[32m    573\u001B[39m     )\n",
      "\u001B[36mFile \u001B[39m\u001B[32m/usr/lib/python3.12/importlib/metadata/__init__.py:889\u001B[39m, in \u001B[36mversion\u001B[39m\u001B[34m(distribution_name)\u001B[39m\n\u001B[32m    882\u001B[39m \u001B[38;5;28;01mdef\u001B[39;00m\u001B[38;5;250m \u001B[39m\u001B[34mversion\u001B[39m(distribution_name):\n\u001B[32m    883\u001B[39m \u001B[38;5;250m    \u001B[39m\u001B[33;03m\"\"\"Get the version string for the named package.\u001B[39;00m\n\u001B[32m    884\u001B[39m \n\u001B[32m    885\u001B[39m \u001B[33;03m    :param distribution_name: The name of the distribution package to query.\u001B[39;00m\n\u001B[32m    886\u001B[39m \u001B[33;03m    :return: The version string for the package as defined in the package's\u001B[39;00m\n\u001B[32m    887\u001B[39m \u001B[33;03m        \"Version\" metadata key.\u001B[39;00m\n\u001B[32m    888\u001B[39m \u001B[33;03m    \"\"\"\u001B[39;00m\n\u001B[32m--> \u001B[39m\u001B[32m889\u001B[39m     \u001B[38;5;28;01mreturn\u001B[39;00m \u001B[43mdistribution\u001B[49m\u001B[43m(\u001B[49m\u001B[43mdistribution_name\u001B[49m\u001B[43m)\u001B[49m.version\n",
      "\u001B[36mFile \u001B[39m\u001B[32m/usr/lib/python3.12/importlib/metadata/__init__.py:862\u001B[39m, in \u001B[36mdistribution\u001B[39m\u001B[34m(distribution_name)\u001B[39m\n\u001B[32m    856\u001B[39m \u001B[38;5;28;01mdef\u001B[39;00m\u001B[38;5;250m \u001B[39m\u001B[34mdistribution\u001B[39m(distribution_name):\n\u001B[32m    857\u001B[39m \u001B[38;5;250m    \u001B[39m\u001B[33;03m\"\"\"Get the ``Distribution`` instance for the named package.\u001B[39;00m\n\u001B[32m    858\u001B[39m \n\u001B[32m    859\u001B[39m \u001B[33;03m    :param distribution_name: The name of the distribution package as a string.\u001B[39;00m\n\u001B[32m    860\u001B[39m \u001B[33;03m    :return: A ``Distribution`` instance (or subclass thereof).\u001B[39;00m\n\u001B[32m    861\u001B[39m \u001B[33;03m    \"\"\"\u001B[39;00m\n\u001B[32m--> \u001B[39m\u001B[32m862\u001B[39m     \u001B[38;5;28;01mreturn\u001B[39;00m \u001B[43mDistribution\u001B[49m\u001B[43m.\u001B[49m\u001B[43mfrom_name\u001B[49m\u001B[43m(\u001B[49m\u001B[43mdistribution_name\u001B[49m\u001B[43m)\u001B[49m\n",
      "\u001B[36mFile \u001B[39m\u001B[32m/usr/lib/python3.12/importlib/metadata/__init__.py:399\u001B[39m, in \u001B[36mDistribution.from_name\u001B[39m\u001B[34m(cls, name)\u001B[39m\n\u001B[32m    397\u001B[39m     \u001B[38;5;28;01mreturn\u001B[39;00m \u001B[38;5;28mnext\u001B[39m(\u001B[38;5;28mcls\u001B[39m.discover(name=name))\n\u001B[32m    398\u001B[39m \u001B[38;5;28;01mexcept\u001B[39;00m \u001B[38;5;167;01mStopIteration\u001B[39;00m:\n\u001B[32m--> \u001B[39m\u001B[32m399\u001B[39m     \u001B[38;5;28;01mraise\u001B[39;00m PackageNotFoundError(name)\n",
      "\u001B[31mPackageNotFoundError\u001B[39m: No package metadata was found for bitsandbytes"
     ]
    }
   ],
   "execution_count": 43
  },
  {
   "metadata": {
    "ExecuteTime": {
     "end_time": "2025-08-21T07:47:33.012235Z",
     "start_time": "2025-08-21T07:47:33.001197Z"
    }
   },
   "cell_type": "code",
   "source": [
    "import os\n",
    "from transformers.utils import import_utils as iu\n",
    "print(\"ENV TRANSFORMERS_NO_ACCELERATE=\", os.environ.get(\"TRANSFORMERS_NO_ACCELERATE\"))\n",
    "print(\"is_accelerate_available()=\", iu.is_accelerate_available(), \" / MIN=\", iu.ACCELERATE_MIN_VERSION)\n"
   ],
   "outputs": [
    {
     "name": "stdout",
     "output_type": "stream",
     "text": [
      "ENV TRANSFORMERS_NO_ACCELERATE= None\n",
      "is_accelerate_available()= False  / MIN= 0.26.0\n"
     ]
    }
   ],
   "execution_count": 25
  },
  {
   "metadata": {
    "ExecuteTime": {
     "end_time": "2025-08-21T07:36:32.445260Z",
     "start_time": "2025-08-21T07:36:32.191594Z"
    }
   },
   "cell_type": "code",
   "source": [
    "from accelerate import Accelerator\n",
    "acc = Accelerator()   # 오류 없어야 정상\n",
    "print(acc.state)      # 장치/프로세스 정보 출력\n"
   ],
   "outputs": [
    {
     "name": "stdout",
     "output_type": "stream",
     "text": [
      "Distributed environment: DistributedType.NO\n",
      "Num processes: 1\n",
      "Process index: 0\n",
      "Local process index: 0\n",
      "Device: cuda\n",
      "\n",
      "Mixed precision type: no\n",
      "\n"
     ]
    }
   ],
   "execution_count": 21
  },
  {
   "metadata": {},
   "cell_type": "code",
   "outputs": [],
   "execution_count": null,
   "source": ""
  }
 ]
}
